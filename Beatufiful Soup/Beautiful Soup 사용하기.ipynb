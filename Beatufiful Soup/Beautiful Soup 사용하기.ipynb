{
 "cells": [
  {
   "cell_type": "markdown",
   "metadata": {},
   "source": [
    "### 외부 라이브러리 설치\n",
    "인터넷상에서 외부 라이브러리 설치\n",
    "* 파이썬 : ez_setup, pip\n",
    "* node.js : npm"
   ]
  },
  {
   "cell_type": "markdown",
   "metadata": {},
   "source": [
    "# Beautiful Soup 사용하기\n",
    "1. 참조\n",
    "  * https://pypi.python.org/pypi/beautifulsoup4\n",
    "  * http://www.crummy.com/software/BeautifulSoup/bs4/doc/\n",
    "\n",
    "2. 설치\n",
    "  * beautifulsoup 4버전은 python3 지원\n",
    "    >$pip install beautifulsoup4\n",
    "  \n",
    "  * 파싱할때 추가적인 lib있으면 편해서\n",
    "    >$pip install lxml\n",
    "  \n",
    "    >$pip install html5lib"
   ]
  },
  {
   "cell_type": "markdown",
   "metadata": {},
   "source": [
    "#### urllib.urlopen\n",
    "http://stackoverflow.com/questions/3969726/attributeerror-module-object-has-no-attribute-urlopen\n",
    "\n",
    "* python 2 : urllib.urlopen\n",
    "* python 3 : urllib.request.urlopen"
   ]
  },
  {
   "cell_type": "code",
   "execution_count": 19,
   "metadata": {
    "collapsed": false
   },
   "outputs": [
    {
     "name": "stdout",
     "output_type": "stream",
     "text": [
      "985. 금목걸이\n",
      "/webtoon/detail.nhn?titleId=20853&no=989&weekday=fri\n",
      "\n",
      "<td class=\"title\">\n",
      "<a href=\"/webtoon/detail.nhn?titleId=20853&amp;no=989&amp;weekday=fri\" onclick=\"clickcr(this,'lst.title','20853','989',event)\">985. 금목걸이</a>\n",
      "</td>\n",
      "<td class=\"title\">\n",
      "<a href=\"/webtoon/detail.nhn?titleId=20853&amp;no=988&amp;weekday=fri\" onclick=\"clickcr(this,'lst.title','20853','988',event)\">984. 드론 침공</a>\n",
      "</td>\n",
      "<td class=\"title\">\n",
      "<a href=\"/webtoon/detail.nhn?titleId=20853&amp;no=987&amp;weekday=fri\" onclick=\"clickcr(this,'lst.title','20853','987',event)\">983. 미적 감각</a>\n",
      "</td>\n",
      "<td class=\"title\">\n",
      "<a href=\"/webtoon/detail.nhn?titleId=20853&amp;no=986&amp;weekday=fri\" onclick=\"clickcr(this,'lst.title','20853','986',event)\">982. 목소리</a>\n",
      "</td>\n",
      "<td class=\"title\">\n",
      "<a href=\"/webtoon/detail.nhn?titleId=20853&amp;no=985&amp;weekday=fri\" onclick=\"clickcr(this,'lst.title','20853','985',event)\">981. 가디언</a>\n",
      "</td>\n",
      "<td class=\"title\">\n",
      "<a href=\"/webtoon/detail.nhn?titleId=20853&amp;no=984&amp;weekday=fri\" onclick=\"clickcr(this,'lst.title','20853','984',event)\">980. 파이어 이멀전시</a>\n",
      "</td>\n",
      "<td class=\"title\">\n",
      "<a href=\"/webtoon/detail.nhn?titleId=20853&amp;no=983&amp;weekday=fri\" onclick=\"clickcr(this,'lst.title','20853','983',event)\">979. 조춤</a>\n",
      "</td>\n",
      "<td class=\"title\">\n",
      "<a href=\"/webtoon/detail.nhn?titleId=20853&amp;no=982&amp;weekday=fri\" onclick=\"clickcr(this,'lst.title','20853','982',event)\">978. 왕</a>\n",
      "</td>\n",
      "<td class=\"title\">\n",
      "<a href=\"/webtoon/detail.nhn?titleId=20853&amp;no=981&amp;weekday=fri\" onclick=\"clickcr(this,'lst.title','20853','981',event)\">977. 인터스텔라</a>\n",
      "</td>\n",
      "<td class=\"title\">\n",
      "<a href=\"/webtoon/detail.nhn?titleId=20853&amp;no=980&amp;weekday=fri\" onclick=\"clickcr(this,'lst.title','20853','980',event)\">976. 집들이</a>\n",
      "</td>\n"
     ]
    }
   ],
   "source": [
    "import urllib\n",
    "from bs4 import BeautifulSoup\n",
    "html = \"<div><span><a href=http://www.naver.com>naver.com</a></span></div>\"\n",
    "\n",
    "soup = BeautifulSoup(html)\n",
    "#print(soup.prettify())\n",
    "\n",
    "# 조석만화 크롤링\n",
    "data = urllib.request.urlopen(\"http://comic.naver.com/webtoon/list.nhn?titleId=20853&weekday=fri\")\n",
    "\n",
    "soup = BeautifulSoup(data)\n",
    "\n",
    "cartoons = soup.findAll('td', attrs={'class':'title'})\n",
    "title = cartoons[0].find('a').text\n",
    "link = cartoons[0].find('a')['href']\n",
    "\n",
    "print(title)\n",
    "print(link)\n",
    "print()\n",
    "\n",
    "for item in cartoons:\n",
    "    print(item)"
   ]
  },
  {
   "cell_type": "code",
   "execution_count": 4,
   "metadata": {
    "collapsed": false
   },
   "outputs": [
    {
     "name": "stdout",
     "output_type": "stream",
     "text": [
      "<html>\n",
      " <head>\n",
      "  <title>\n",
      "   Page title\n",
      "  </title>\n",
      " </head>\n",
      " <body>\n",
      "  <p align=\"center\" id=\"firstpara\">\n",
      "   This is paragraph\n",
      "   <b>\n",
      "    one\n",
      "   </b>\n",
      "  </p>\n",
      "  <p align=\"blah\" id=\"secondpara\">\n",
      "   This is a paragraph\n",
      "   <b>\n",
      "    two\n",
      "   </b>\n",
      "  </p>\n",
      " </body>\n",
      "</html>\n"
     ]
    }
   ],
   "source": [
    "from bs4 import BeautifulSoup\n",
    "\n",
    "doc = ['<html><head><title>Page title</title></head>', '<body><p id=\"firstpara\" align=\"center\">This is paragraph <b>one</b>', '<p id=\"secondpara\" align=\"blah\">This is a paragraph <b>two</b>', '</html']\n",
    "soup = BeautifulSoup(''.join(doc))\n",
    "print(soup.prettify())"
   ]
  },
  {
   "cell_type": "code",
   "execution_count": 17,
   "metadata": {
    "collapsed": false
   },
   "outputs": [
    {
     "name": "stdout",
     "output_type": "stream",
     "text": [
      "[<b>one</b>, <b>two</b>]\n"
     ]
    },
    {
     "data": {
      "text/plain": [
       "[<p align=\"center\" id=\"firstpara\">This is paragraph <b>one</b></p>,\n",
       " <p align=\"blah\" id=\"secondpara\">This is a paragraph <b>two</b></p>]"
      ]
     },
     "execution_count": 17,
     "metadata": {},
     "output_type": "execute_result"
    }
   ],
   "source": [
    "print(soup.findAll('b'))\n",
    "\n",
    "import re\n",
    "tagsStartingWithB = soup.findAll(re.compile('^b'))\n",
    "\n",
    "[tag.name for tag in tagsStartingWithB]\n",
    "\n",
    "soup.findAll(['title', 'p'])\n",
    "\n",
    "allTags = soup.findAll(True)\n",
    "[tag.name for tag in allTags]\n",
    "\n",
    "soup.findAll(lambda tag:len(tag.attrs)==2)\n",
    "\n",
    "soup.findAll(align=\"center\")\n",
    "\n",
    "soup.findAll(id=re.compile(\"para$\"))"
   ]
  },
  {
   "cell_type": "code",
   "execution_count": 20,
   "metadata": {
    "collapsed": false
   },
   "outputs": [
    {
     "name": "stdout",
     "output_type": "stream",
     "text": [
      "<html>\n",
      " <body>\n",
      "  <p>\n",
      "   Bob's\n",
      "   <b>\n",
      "    Bold\n",
      "   </b>\n",
      "   Barbeque Sauce now available\n",
      "   <b class=\"hickory\">\n",
      "    Hickory\n",
      "   </b>\n",
      "   and\n",
      "   <b class=\"lime\">\n",
      "    Lime\n",
      "   </b>\n",
      "  </p>\n",
      " </body>\n",
      "</html>\n"
     ]
    },
    {
     "data": {
      "text/plain": [
       "'Lime'"
      ]
     },
     "execution_count": 20,
     "metadata": {},
     "output_type": "execute_result"
    }
   ],
   "source": [
    "from bs4 import BeautifulSoup\n",
    "\n",
    "soup =BeautifulSoup(\"\"\"Bob's<b>Bold</b>Barbeque Sauce now available <b class=\"hickory\">Hickory</b> and <b class=\"lime\">Lime</a>\"\"\")\n",
    "print(soup.prettify())\n",
    "\n",
    "soup.find(\"b\", {\"class\":\"lime\"})\n",
    "\n",
    "soup.find(\"b\", {\"class\":\"lime\"}).text"
   ]
  },
  {
   "cell_type": "code",
   "execution_count": 25,
   "metadata": {
    "collapsed": false
   },
   "outputs": [
    {
     "name": "stdout",
     "output_type": "stream",
     "text": [
      "[주의] 어떠한 경우에도 욕설 및 과도한 비난은 삼가하여주시기 바랍니다.\n",
      "모두의 공원 이용규칙\n",
      "3D 터치는 아직 애매하군요.\n",
      "예쁜 친구들의 말\n",
      "모순.jpg\n",
      "서울 전세 무섭네요\n",
      "스폰서의 힘.jpg\n",
      "흥미진진한 피타고라(골드버그) 장치 동영상...\n",
      "아이.서울.유......\n",
      "오늘 걸려온 스팸전화 통화 내용.txt\n",
      "김대중, 노무현 대통령님 때 바꿀려고 노력하신 것 아닌가요?\n",
      "김문수 “대한민국, 박근혜 중심으로 뭉쳐야,북한도 김정은으로 뭉쳐야'\n",
      "서울변호사회 “국회선진화법 위헌… 다수결-대의제 위배”\n",
      "카카오 프렌즈에서 젤로 좋아하는 네오\n",
      "미드 실리콘 밸리에 나오는 피터 그레고리요..\n",
      "그냥 갑자기 홈화면 인증..\n",
      "샤오미 미국시장 진출 임박\n",
      "아이 서울 유 뜻을 알것같습니다\n",
      "시계개통완료.jpg(시계 찾아왔습니다)\n",
      "요즘 새누리당과 그 일당을 지지하는 사람들은 매국에 동조하는 것 아닌가 싶습니다.\n",
      "iOS 벅스어플 3D터치 지원\n",
      "스타벅스 메이플 피칸라떼 나눔할께요!!!!\n",
      "밥 먹는데 무지 신경 쓰이네요.\n",
      "인터넷 해지방어 정말 대단하네요. 계속된 혜택과 설득을 겨우 뿌리쳤습니다.\n",
      "집근처에 스타벅스 생겼어요\n",
      "엉덩이가 납작해지고 있어요\n",
      "어느선을 넘어가면 두뇌의 능력이 필요하더라고요..\n",
      "아침 저녁으로 윗층에서 뭐 이렇게 일정하게 쿵쾅거리나 했더니 안마의자 같네요.\n",
      "24MB GIF) 러시아군 P-270 모스키트 초음속 대함미사일 발사.gif\n",
      "전교조가 국정화 반대한다고 고소고발 하고 처벌한다는데 어이가 없네요....\n",
      "수감된 40대母 경찰에 손편지 \"3남매 보살펴 줘 감사\"\n",
      "봐도봐도 신기한 피라미드.jpg\n",
      "쇼팽 콩쿠르 갈라 콘서트 예매 중인 분 계신가요? ㅋ\n",
      "카카오프렌즈 vs 라인프렌즈\n",
      "졸릴 때 하나씩 꺼내먹네요.\n",
      "파리바게트는 지점별로 차이가 엄청 심하군요..\n",
      "두바이 안개 끼니까 장난 아니네요.jpg\n",
      "대한민국 서울의 위엄.jpg ㅎㄷ ㄷ \n",
      "클리앙 분들은 사고의 유연성이 좀 부족한듯 싶네요 ^^;\n",
      "옆팀 상사한테 업무협조 얻어야 하는 경우 어떻게들 하시나요..?\n",
      "날씨가 추워지면..gif\n",
      "오늘까지인 메이플 피칸라떼 보고 쿠폰 나눔\n"
     ]
    }
   ],
   "source": [
    "import urllib\n",
    "from bs4 import BeautifulSoup\n",
    "\n",
    "# 클리앙 > 모두의공원 목록 중에 제목 크롤링\n",
    "data = urllib.request.urlopen(\"http://clien.net/cs2/bbs/board.php?bo_table=park\")\n",
    "\n",
    "soup = BeautifulSoup(data)\n",
    "list = soup.findAll('td', attrs={'class': 'post_subject'})\n",
    "for item in list:\n",
    "    title = item.find('a').text\n",
    "    print(title)"
   ]
  }
 ],
 "metadata": {
  "kernelspec": {
   "display_name": "Python 3",
   "language": "python",
   "name": "python3"
  },
  "language_info": {
   "codemirror_mode": {
    "name": "ipython",
    "version": 3
   },
   "file_extension": ".py",
   "mimetype": "text/x-python",
   "name": "python",
   "nbconvert_exporter": "python",
   "pygments_lexer": "ipython3",
   "version": "3.4.3"
  }
 },
 "nbformat": 4,
 "nbformat_minor": 0
}
