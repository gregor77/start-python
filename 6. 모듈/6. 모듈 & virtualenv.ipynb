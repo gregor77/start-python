{
 "cells": [
  {
   "cell_type": "markdown",
   "metadata": {},
   "source": [
    "# 6. 모듈"
   ]
  },
  {
   "cell_type": "markdown",
   "metadata": {},
   "source": [
    "# virtualenv\n",
    "### 1. 개요\n",
    "처음에는 패키지 설치가 가상환경에 되는줄 알았는데, 사용해보니 패키지 설치는 원래 저장소에 되고, 가상환경에서 설치된 패키지 링크를 사용하는 것 같다.\n",
    "\n",
    "가상환경에 설치된 패키지 목록 보기:\n",
    "    >$pip freeze > requirements.txt\n",
    "\n",
    "생성된 requirements.txt 파일 내용:\n",
    "\n",
    "    beautifulsoup4==4.4.1\n",
    "    html5lib==0.9999999\n",
    "    lxml==3.4.4\n",
    "    six==1.10.0\n",
    "    wheel==0.24.0\n",
    "\n",
    "### 2. 사용\n",
    "1. 참조\n",
    "  * http://pythoninreal.blogspot.kr/2013/12/virtualenv.html\n",
    "  * http://kwonnam.pe.kr/wiki/python/virtualenv\n",
    "2. virtualenv 설치\n",
    "3. .profile 또는 .bash_profile에 virtualenv Path 추가\n",
    "  > $vi ~/.bash_profile\n",
    "\n",
    "4. 사용하기\n",
    "  > $mkvirtualenv {{가상환경이름}}\n",
    "\n",
    "  > $deactivate\n",
    "\n",
    "  > $workon {{가상환경이름}}\n",
    "  "
   ]
  },
  {
   "cell_type": "markdown",
   "metadata": {},
   "source": [
    "## 6.4 모듈 임포트\n",
    "#### 1. from <모듈> import <어트리뷰트>\n",
    "해당 임포트된 어트리뷰트는 '모듈이름.어트리뷰트이름' 같은 형식으로 쓰지 않고 바로 참조한다."
   ]
  },
  {
   "cell_type": "code",
   "execution_count": 8,
   "metadata": {
    "collapsed": false
   },
   "outputs": [
    {
     "name": "stdout",
     "output_type": "stream",
     "text": [
      "[1, 2, 3, 4]\n",
      "[1]\n"
     ]
    }
   ],
   "source": [
    "from simpleset import union\n",
    "print(union([1,2,3], [3], [3,4]))\n",
    "\n",
    "#from simpleset import intersect\n",
    "print(intersect([1,2], [1]))"
   ]
  },
  {
   "cell_type": "markdown",
   "metadata": {},
   "source": [
    "#### 모듈 임포트 파헤치기 : .pyc\n",
    "바이트 코드는 일종의 중간 모듈이다. 모듈 파일이 simpleset.py라면 바이트 코드는 simpleset.pyc라는 이름으로 모듈 파일이 존재하는 폴더에 저장된다. 모듈이 임포트될 때 인터프리팅 없이 바로 로딩됨으로 임포트가 빨라진다.\n",
    "\n",
    "1. 모듈은 메모리에 한번, 하나만 로딩되고 이를 참고하는 여러 개의 레퍼런스가 있다.\n",
    "2. lib\\\\_\\_pycache\\_\\_\n",
    "  * 여기에 컴파일된 파일들이 들어있고, 메모리에 올라온 뒤부터는 컴파일된 파일을 계속 사용한다."
   ]
  },
  {
   "cell_type": "markdown",
   "metadata": {},
   "source": [
    "## 6.7 패키지\n",
    "여러 개의 모듈을 묶어야 할 경우 패키지를 사용한다. 이러한 모듈과 패키지는 파이썬 설치 폴더의 lib라는 하위 폴더에 저장되어 있다.\n",
    "\n",
    "* \\_\\_init\\_\\_.py\n",
    "  - 해당 파일에는  \\_\\_all\\_\\_에 사용하고자 하는 모듈을 list로 정의하고 있다.\n",
    "    > \\_\\_all\\_\\_ = [add, substract]\n",
    "  - 해당 모듈을 import할때 \\_\\_init\\_\\_.py를 읽어서 모듈을 최초 수행한다."
   ]
  },
  {
   "cell_type": "code",
   "execution_count": null,
   "metadata": {
    "collapsed": true
   },
   "outputs": [],
   "source": []
  }
 ],
 "metadata": {
  "kernelspec": {
   "display_name": "Python 3",
   "language": "python",
   "name": "python3"
  },
  "language_info": {
   "codemirror_mode": {
    "name": "ipython",
    "version": 3
   },
   "file_extension": ".py",
   "mimetype": "text/x-python",
   "name": "python",
   "nbconvert_exporter": "python",
   "pygments_lexer": "ipython3",
   "version": "3.4.3"
  }
 },
 "nbformat": 4,
 "nbformat_minor": 0
}
