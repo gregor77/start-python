{
 "cells": [
  {
   "cell_type": "markdown",
   "metadata": {},
   "source": [
    "# 13. 파일 처리\n",
    "\n",
    "## os.path\n",
    "파일 입출력 기능을 이용해서 파일을 생성하거나 기존 파일을 관리 할 수 있다."
   ]
  },
  {
   "cell_type": "code",
   "execution_count": 1,
   "metadata": {
    "collapsed": false
   },
   "outputs": [
    {
     "data": {
      "text/plain": [
       "'/Users/bookboogie/p/git/start-python/tmp'"
      ]
     },
     "execution_count": 1,
     "metadata": {},
     "output_type": "execute_result"
    }
   ],
   "source": [
    "from os.path import *\n",
    "abspath('tmp')"
   ]
  },
  {
   "cell_type": "code",
   "execution_count": 3,
   "metadata": {
    "collapsed": false
   },
   "outputs": [
    {
     "data": {
      "text/plain": [
       "'data.txt'"
      ]
     },
     "execution_count": 3,
     "metadata": {},
     "output_type": "execute_result"
    }
   ],
   "source": [
    "basename('/Users/bookboogie/p/git/start-python/tmp/data.txt')"
   ]
  },
  {
   "cell_type": "code",
   "execution_count": 6,
   "metadata": {
    "collapsed": false
   },
   "outputs": [
    {
     "data": {
      "text/plain": [
       "'/Users/bookboogie/p/git/'"
      ]
     },
     "execution_count": 6,
     "metadata": {},
     "output_type": "execute_result"
    }
   ],
   "source": [
    "commonprefix(['/Users/bookboogie/p/git/start-python/', '/Users/bookboogie/p/git/lightweigt-django/'])"
   ]
  },
  {
   "cell_type": "code",
   "execution_count": 7,
   "metadata": {
    "collapsed": false
   },
   "outputs": [
    {
     "data": {
      "text/plain": [
       "False"
      ]
     },
     "execution_count": 7,
     "metadata": {},
     "output_type": "execute_result"
    }
   ],
   "source": [
    "exists('/Users/bookboogie/p/git/start-python/tmp')"
   ]
  },
  {
   "cell_type": "code",
   "execution_count": 9,
   "metadata": {
    "collapsed": false
   },
   "outputs": [
    {
     "data": {
      "text/plain": [
       "True"
      ]
     },
     "execution_count": 9,
     "metadata": {},
     "output_type": "execute_result"
    }
   ],
   "source": [
    "exists('/Users/bookboogie/p/git/start-python/')"
   ]
  },
  {
   "cell_type": "code",
   "execution_count": 11,
   "metadata": {
    "collapsed": false
   },
   "outputs": [
    {
     "data": {
      "text/plain": [
       "680"
      ]
     },
     "execution_count": 11,
     "metadata": {},
     "output_type": "execute_result"
    }
   ],
   "source": [
    "getsize('/Users/bookboogie/p/git/start-python/')"
   ]
  },
  {
   "cell_type": "code",
   "execution_count": 13,
   "metadata": {
    "collapsed": false
   },
   "outputs": [
    {
     "data": {
      "text/plain": [
       "1446081953.0"
      ]
     },
     "execution_count": 13,
     "metadata": {},
     "output_type": "execute_result"
    }
   ],
   "source": [
    "getctime('/Users/bookboogie/p/git/start-python/')"
   ]
  },
  {
   "cell_type": "code",
   "execution_count": 22,
   "metadata": {
    "collapsed": false
   },
   "outputs": [
    {
     "data": {
      "text/plain": [
       "environ({'_': '/Users/bookboogie/anaconda/python.app/Contents/MacOS/python', 'TERM': 'xterm-color', 'PAGER': 'cat', 'XPC_FLAGS': '0x0', 'ITERM_PROFILE': 'Default', 'LANG': 'ko_KR.UTF-8', 'VIRTUALENVWRAPPER_SCRIPT': '/Library/Frameworks/Python.framework/Versions/3.5/bin/virtualenvwrapper.sh', 'SHELL': '/bin/bash', 'GREP_OPTIONS': '--color=auto', 'VIRTUALENVWRAPPER_WORKON_CD': '1', 'Apple_PubSub_Socket_Render': '/private/tmp/com.apple.launchd.qC10VwBtOu/Render', 'PWD': '/Users/bookboogie/p/git/start-python', 'TERM_PROGRAM': 'iTerm.app', '__CF_USER_TEXT_ENCODING': '0x1F5:0x3:0x33', 'GIT_PAGER': 'cat', 'ITERM_SESSION_ID': 'w0t0p0', 'HOME': '/Users/bookboogie', 'JPY_PARENT_PID': '420', 'VIRTUALENVWRAPPER_PROJECT_FILENAME': '.project', 'VIRTUALENVWRAPPER_HOOK_DIR': '/Users/bookboogie/.virtualenvs', 'USER': 'bookboogie', 'TMPDIR': '/var/folders/5r/ng3bh1d50k7dhr2wd7z_mx8h0000gn/T/', 'COLORFGBG': '7;0', 'CLICOLOR': '1', 'LOGNAME': 'bookboogie', 'LSCOLORS': 'GxFxCxDxBxegedabagaced', 'XPC_SERVICE_NAME': '0', 'PATH': '/Library/Frameworks/Python.framework/Versions/3.5/bin:/Users/bookboogie/anaconda/bin:/usr/local/bin:/usr/bin:/bin:/usr/sbin:/sbin:/usr/local/git/bin', 'WORKON_HOME': '/Users/bookboogie/.virtualenvs', 'SSH_AUTH_SOCK': '/private/tmp/com.apple.launchd.XXFmjFUPMm/Listeners', 'SHLVL': '2'})"
      ]
     },
     "execution_count": 22,
     "metadata": {},
     "output_type": "execute_result"
    }
   ],
   "source": [
    "import os\n",
    "os.environ"
   ]
  },
  {
   "cell_type": "code",
   "execution_count": 24,
   "metadata": {
    "collapsed": false
   },
   "outputs": [
    {
     "data": {
      "text/plain": [
       "['/bin/sh: SHELL: command not found']"
      ]
     },
     "execution_count": 24,
     "metadata": {},
     "output_type": "execute_result"
    }
   ],
   "source": [
    "system('SHELL')"
   ]
  },
  {
   "cell_type": "markdown",
   "metadata": {},
   "source": [
    "## glob 모듈\n",
    "윈도우의 dir명령, 리눅스의 ls 명령어와 같은 기능 제공."
   ]
  },
  {
   "cell_type": "code",
   "execution_count": 42,
   "metadata": {
    "collapsed": false
   },
   "outputs": [
    {
     "data": {
      "text/plain": [
       "['10. 문자열 처리.ipynb',\n",
       " '11. 그외 추가적 모듈.ipynb',\n",
       " '13. 파일 처리.ipynb',\n",
       " '2. Python 개요 & 자료형 및 연산자.ipynb',\n",
       " '3. 함수.ipynb',\n",
       " '4. 제어문.ipynb',\n",
       " '5. 클래스.ipynb',\n",
       " '6. 모듈',\n",
       " '7. 예외처리.ipynb',\n",
       " '8. 입출력',\n",
       " '__pycache__',\n",
       " 'Beautiful Soup 사용하기.ipynb',\n",
       " 'contents',\n",
       " 'README.md']"
      ]
     },
     "execution_count": 42,
     "metadata": {},
     "output_type": "execute_result"
    }
   ],
   "source": [
    "import glob\n",
    "\n",
    "glob.glob('*')"
   ]
  },
  {
   "cell_type": "code",
   "execution_count": 28,
   "metadata": {
    "collapsed": false
   },
   "outputs": [
    {
     "data": {
      "text/plain": [
       "['10. 문자열 처리.ipynb',\n",
       " '11. 그외 추가적 모듈.ipynb',\n",
       " '13. 파일 처리.ipynb',\n",
       " '2. Python 개요 & 자료형 및 연산자.ipynb',\n",
       " '3. 함수.ipynb',\n",
       " '4. 제어문.ipynb',\n",
       " '5. 클래스.ipynb',\n",
       " '7. 예외처리.ipynb',\n",
       " 'Beautiful Soup 사용하기.ipynb']"
      ]
     },
     "execution_count": 28,
     "metadata": {},
     "output_type": "execute_result"
    }
   ],
   "source": [
    "import glob\n",
    "\n",
    "glob.glob('*.ipynb')  # list로 리턴"
   ]
  },
  {
   "cell_type": "code",
   "execution_count": 9,
   "metadata": {
    "collapsed": false
   },
   "outputs": [],
   "source": [
    "import glob\n",
    "\n",
    "for f in glob.iglob('[0-9].*'):  # iterator로 리턴 \n",
    "    print(f)"
   ]
  },
  {
   "cell_type": "markdown",
   "metadata": {},
   "source": [
    "## tree\n",
    "해당 디렉토리에 있는 tree.py를 실행해봐라"
   ]
  }
 ],
 "metadata": {
  "kernelspec": {
   "display_name": "Python 3",
   "language": "python",
   "name": "python3"
  },
  "language_info": {
   "codemirror_mode": {
    "name": "ipython",
    "version": 3
   },
   "file_extension": ".py",
   "mimetype": "text/x-python",
   "name": "python",
   "nbconvert_exporter": "python",
   "pygments_lexer": "ipython3",
   "version": "3.4.3"
  }
 },
 "nbformat": 4,
 "nbformat_minor": 0
}
