{
 "cells": [
  {
   "cell_type": "markdown",
   "metadata": {},
   "source": [
    "10장부터 2부 시작.\n",
    "\n",
    "# 10. 문자열 처리\n",
    "\n",
    "#### join(sequence)\n",
    "순회 가능한 입력인 시퀀스 형 변수를 지정된 문자열로 연결해서 반환"
   ]
  },
  {
   "cell_type": "code",
   "execution_count": 8,
   "metadata": {
    "collapsed": false
   },
   "outputs": [
    {
     "data": {
      "text/plain": [
       "'spam:)and:)ham'"
      ]
     },
     "execution_count": 8,
     "metadata": {},
     "output_type": "execute_result"
    }
   ],
   "source": [
    "u = \"  spam and ham \"\n",
    "\n",
    "u.strip()\n",
    "\n",
    "u.rstrip()\n",
    "\n",
    "u.lstrip()\n",
    "\n",
    "u.replace(\"spam\", \"spam and egg\")\n",
    "\n",
    "u.split()\n",
    "\n",
    "t = u.split()\n",
    "t\n",
    "\n",
    "\":\".join(t)\n",
    "\n",
    "\":)\".join(t)"
   ]
  },
  {
   "cell_type": "code",
   "execution_count": 10,
   "metadata": {
    "collapsed": false
   },
   "outputs": [
    {
     "data": {
      "text/plain": [
       "['__add__',\n",
       " '__class__',\n",
       " '__contains__',\n",
       " '__delattr__',\n",
       " '__dir__',\n",
       " '__doc__',\n",
       " '__eq__',\n",
       " '__format__',\n",
       " '__ge__',\n",
       " '__getattribute__',\n",
       " '__getitem__',\n",
       " '__getnewargs__',\n",
       " '__gt__',\n",
       " '__hash__',\n",
       " '__init__',\n",
       " '__iter__',\n",
       " '__le__',\n",
       " '__len__',\n",
       " '__lt__',\n",
       " '__mod__',\n",
       " '__mul__',\n",
       " '__ne__',\n",
       " '__new__',\n",
       " '__reduce__',\n",
       " '__reduce_ex__',\n",
       " '__repr__',\n",
       " '__rmod__',\n",
       " '__rmul__',\n",
       " '__setattr__',\n",
       " '__sizeof__',\n",
       " '__str__',\n",
       " '__subclasshook__',\n",
       " 'capitalize',\n",
       " 'casefold',\n",
       " 'center',\n",
       " 'count',\n",
       " 'encode',\n",
       " 'endswith',\n",
       " 'expandtabs',\n",
       " 'find',\n",
       " 'format',\n",
       " 'format_map',\n",
       " 'index',\n",
       " 'isalnum',\n",
       " 'isalpha',\n",
       " 'isdecimal',\n",
       " 'isdigit',\n",
       " 'isidentifier',\n",
       " 'islower',\n",
       " 'isnumeric',\n",
       " 'isprintable',\n",
       " 'isspace',\n",
       " 'istitle',\n",
       " 'isupper',\n",
       " 'join',\n",
       " 'ljust',\n",
       " 'lower',\n",
       " 'lstrip',\n",
       " 'maketrans',\n",
       " 'partition',\n",
       " 'replace',\n",
       " 'rfind',\n",
       " 'rindex',\n",
       " 'rjust',\n",
       " 'rpartition',\n",
       " 'rsplit',\n",
       " 'rstrip',\n",
       " 'split',\n",
       " 'splitlines',\n",
       " 'startswith',\n",
       " 'strip',\n",
       " 'swapcase',\n",
       " 'title',\n",
       " 'translate',\n",
       " 'upper',\n",
       " 'zfill']"
      ]
     },
     "execution_count": 10,
     "metadata": {},
     "output_type": "execute_result"
    }
   ],
   "source": [
    "dir(str)"
   ]
  },
  {
   "cell_type": "code",
   "execution_count": 13,
   "metadata": {
    "collapsed": false
   },
   "outputs": [
    {
     "data": {
      "text/plain": [
       "'Python is powerful'"
      ]
     },
     "execution_count": 13,
     "metadata": {},
     "output_type": "execute_result"
    }
   ],
   "source": [
    "\"PYTHON\".capitalize()\n",
    "\n",
    "\"python is powerful\".capitalize()"
   ]
  },
  {
   "cell_type": "code",
   "execution_count": 17,
   "metadata": {
    "collapsed": false
   },
   "outputs": [
    {
     "data": {
      "text/plain": [
       "1"
      ]
     },
     "execution_count": 17,
     "metadata": {},
     "output_type": "execute_result"
    }
   ],
   "source": [
    "\"python is powerful\".count(\"p\")\n",
    "\n",
    "\"python is powerful\".count(\"p\", 5)  #두번째 값은 시작되는 index 위치 (마치 slice해서 찾는 것처럼 동작)"
   ]
  },
  {
   "cell_type": "code",
   "execution_count": 20,
   "metadata": {
    "collapsed": false
   },
   "outputs": [
    {
     "data": {
      "text/plain": [
       "b'\\xea\\xb0\\x80\\xeb\\x82\\x98\\xeb\\x8b\\xa4'"
      ]
     },
     "execution_count": 20,
     "metadata": {},
     "output_type": "execute_result"
    }
   ],
   "source": [
    "\"가나다\".encode(\"cp949\")  # 윈도우에서 한글을 사용할때 쓰는 인코딩 방식\n",
    "\n",
    "\"가나다\".encode(\"utf-8\")"
   ]
  },
  {
   "cell_type": "code",
   "execution_count": 21,
   "metadata": {
    "collapsed": false
   },
   "outputs": [
    {
     "data": {
      "text/plain": [
       "'python  is  powerful'"
      ]
     },
     "execution_count": 21,
     "metadata": {},
     "output_type": "execute_result"
    }
   ],
   "source": [
    "\"python\\tis\\tpowerful\".expandtabs(2)"
   ]
  },
  {
   "cell_type": "code",
   "execution_count": 23,
   "metadata": {
    "collapsed": false
   },
   "outputs": [
    {
     "data": {
      "text/plain": [
       "False"
      ]
     },
     "execution_count": 23,
     "metadata": {},
     "output_type": "execute_result"
    }
   ],
   "source": [
    "\"python3.3\".isalnum()  #alnum = alphabet + numeric, \".\"은 기호다."
   ]
  },
  {
   "cell_type": "code",
   "execution_count": 25,
   "metadata": {
    "collapsed": false
   },
   "outputs": [
    {
     "data": {
      "text/plain": [
       "'PythOn 1s POw2rf9l'"
      ]
     },
     "execution_count": 25,
     "metadata": {},
     "output_type": "execute_result"
    }
   ],
   "source": [
    "transmap = str.maketrans(\"poieu\", \"PO129\")\n",
    "\"python is powerful\".translate(transmap)\n"
   ]
  },
  {
   "cell_type": "markdown",
   "metadata": {},
   "source": [
    "## 10.2 정규표현식(re) 모듈\n",
    "정규 표현식(Regular expression)은 특정한 규칙을 가진 문자열을 표현하는데 사용되는 형식 언어다. 파이썬은 정규표현식을 위해 **re 모듈**에 문자열 검색, 치환, 분리의 기능을 제공한다.\n",
    "\n",
    "###**정규표현식 문법:**\n",
    "\n",
    "    . : 개행문자를 제외한 문자 1자\n",
    "    ^ : 문자열 시작\n",
    "    $ : 문자열 종료\n",
    "    [] : 문자의 집합, ex. [abcd] : 'a', 'b', 'c', 'd', 중 한 문자와 매칭\n",
    "    | : A|B와 같이 'A' 또는 'B'를 의미\n",
    "    (): 괄호 안에 정규식을 그룹으로 만든다\n",
    "    * : 문자가 0 회 이상 반복됨\n",
    "    + : 문자가 1회 이상 반복됨\n",
    "    ? : 문자가 0 혹은 1회 반복됨\n",
    "    {m} : 문자가 m회 반복\n",
    "    {m,n} : 문자가 m회부터 n회까지 반복\n",
    "    {m,} : 문자가 m회부터 무한 반복\n",
    "    \n",
    "* app[^a-z] : 마지막에 소문자가 오는 경우를 제외한 모든 경우, **괄호안에 '^'는 not을 의미**\n",
    "\n",
    "###** 확장 문자열 : 이스케이프 문자열도 정의되어 있다:**\n",
    "\n",
    "    \\w : 유니코드인 경우 숫자, 밑줄을 포함하는 모든 언어의 표현 가능한 문자\n",
    "    \\W : 유니코드인 경우 숫자, 밑줄과 표현 가능한 문자를 제외한 나머지 문자\n",
    "    \\d : 유니코드인 경우 [0-9]를 포함하는 모든 숫자\n",
    "    \\D : 유니코드인 경우 숫자를 제외한 모든 문자\n",
    "    \\s : 유니코드인 경우 [\\t\\n\\r\\f\\v]를 포함하는 공백 문자\n",
    "    \\S : 유니코드인 경우 공백문자를 제외한 모든 문자\n",
    "    \\b : 단어의 시작과 끝의 빈 공백\n",
    "    \\B : 단어의 시작과 끝이 아닌 빈 공백\n",
    "    \\\\ : 역슬래시 (\\) 문자 자체를 의미\n",
    "    \\[숫자] : 지정된 숫자만큼 일치하는 문자열을 의미"
   ]
  },
  {
   "cell_type": "markdown",
   "metadata": {},
   "source": [
    "### re 모듈 함수\n",
    "* re.search(pattern, string[, flags]) : string 전체에 대해서\n",
    "* re.match(pattern, string[, flags]) : string이 시작하는 부분부터\n",
    "* re.split(pattern, string[, maxsplit=0]) : pattern을 구분자로 string을 분리해 리스트로 리턴\n",
    "* re.findall(pattern, string[, flags]) : string에서 pattern과 매치되는 모든 경우를 찾아 리스트로 리턴\n",
    "* re.finditer(pattern, string[, flags]) : string에서 pattern과 일차하는 결과를 iterator 객체로 리턴"
   ]
  },
  {
   "cell_type": "code",
   "execution_count": 27,
   "metadata": {
    "collapsed": false
   },
   "outputs": [
    {
     "data": {
      "text/plain": [
       "False"
      ]
     },
     "execution_count": 27,
     "metadata": {},
     "output_type": "execute_result"
    }
   ],
   "source": [
    "import re\n",
    "bool(re.match('[0-9]*th', '  35th')) # 처음부터 찾아서 false"
   ]
  },
  {
   "cell_type": "code",
   "execution_count": 29,
   "metadata": {
    "collapsed": false
   },
   "outputs": [
    {
     "data": {
      "text/plain": [
       "True"
      ]
     },
     "execution_count": 29,
     "metadata": {},
     "output_type": "execute_result"
    }
   ],
   "source": [
    "bool(re.search('[0-9]*th', '  35th')) # 중간이나 끝에나와도 전체에 대해서 찾으므로 true "
   ]
  },
  {
   "cell_type": "code",
   "execution_count": 31,
   "metadata": {
    "collapsed": false
   },
   "outputs": [
    {
     "data": {
      "text/plain": [
       "False"
      ]
     },
     "execution_count": 31,
     "metadata": {},
     "output_type": "execute_result"
    }
   ],
   "source": [
    "bool(re.match('ap', 'This is apple'))"
   ]
  },
  {
   "cell_type": "code",
   "execution_count": 32,
   "metadata": {
    "collapsed": false
   },
   "outputs": [
    {
     "data": {
      "text/plain": [
       "True"
      ]
     },
     "execution_count": 32,
     "metadata": {},
     "output_type": "execute_result"
    }
   ],
   "source": [
    "bool(re.search('ap', 'This is apple'))"
   ]
  },
  {
   "cell_type": "markdown",
   "metadata": {},
   "source": [
    "#### compile()\n",
    "정규 표현식을 컴파일해 정규 표현식 객체를 생성할 수 있다. 생성된 객체는 re모듈에서 지원하던 모든 검색함수를 정규식의 분석없이 검색할 수 있기 때문에, 동일 패턴을 반복적으로 검색하는 경우 **성능 향상**을 기대 가능하다."
   ]
  },
  {
   "cell_type": "code",
   "execution_count": 42,
   "metadata": {
    "collapsed": false
   },
   "outputs": [
    {
     "data": {
      "text/plain": [
       "['apple']"
      ]
     },
     "execution_count": 42,
     "metadata": {},
     "output_type": "execute_result"
    }
   ],
   "source": [
    "import re\n",
    "s =\"Apple is big company and apple is very delicious\"\n",
    "c = re.compile(r\"app\\w*\")\n",
    "c.findall(s)"
   ]
  },
  {
   "cell_type": "code",
   "execution_count": 44,
   "metadata": {
    "collapsed": false
   },
   "outputs": [
    {
     "data": {
      "text/plain": [
       "['apple']"
      ]
     },
     "execution_count": 44,
     "metadata": {},
     "output_type": "execute_result"
    }
   ],
   "source": [
    "c.findall(s, re.I)  # 대소문자를 구분하지 않고 매칭 수행, I = Ignorecase"
   ]
  },
  {
   "cell_type": "code",
   "execution_count": 47,
   "metadata": {
    "collapsed": false
   },
   "outputs": [
    {
     "data": {
      "text/plain": [
       "['Apple', 'apple']"
      ]
     },
     "execution_count": 47,
     "metadata": {},
     "output_type": "execute_result"
    }
   ],
   "source": [
    "c = re.compile(\"apple\", re.I)\n",
    "c.findall(s)"
   ]
  },
  {
   "cell_type": "code",
   "execution_count": 49,
   "metadata": {
    "collapsed": false
   },
   "outputs": [
    {
     "data": {
      "text/plain": [
       "['Gee Gee Gee', '너무 부끄러워 ', '처다볼 수 없어', '나머지 문장']"
      ]
     },
     "execution_count": 49,
     "metadata": {},
     "output_type": "execute_result"
    }
   ],
   "source": [
    "s = \"\"\"Gee Gee Gee\n",
    "너무 부끄러워 \n",
    "\n",
    "처다볼 수 없어\n",
    "\n",
    "나머지 문장\"\"\"  # Enter 입력한 것을 인식하도록 \"\"\" \"\"\" 사용\n",
    "\n",
    "c = re.compile('^.+')\n",
    "c.findall(s)\n",
    "\n",
    "c = re.compile('^.+', re.M)\n",
    "c.findall(s)"
   ]
  },
  {
   "cell_type": "markdown",
   "metadata": {},
   "source": [
    "### Match 객체\n",
    "match 객체의 match() 함수 실행"
   ]
  },
  {
   "cell_type": "code",
   "execution_count": 36,
   "metadata": {
    "collapsed": false
   },
   "outputs": [
    {
     "data": {
      "text/plain": [
       "True"
      ]
     },
     "execution_count": 36,
     "metadata": {},
     "output_type": "execute_result"
    }
   ],
   "source": [
    "import re\n",
    "telChecker = re.compile(r\"(\\d{2,3})-(\\d{3,4})-(\\d{4})\") # 전화번호 인식을 위한 정규식 객체\n",
    "\n",
    "bool(telChecker.match(\"02-123-4567\"))"
   ]
  },
  {
   "cell_type": "markdown",
   "metadata": {},
   "source": [
    "\n",
    "* 정규식을 작성할 때 '(?<이름>..)  형식으로 매칭 결과에 이름을 부여할 수 있따. 또한 groupdict() 메서드를 이용해 사전형식으로 검색된 문자쌍을 얻을 수 있다."
   ]
  },
  {
   "cell_type": "code",
   "execution_count": 50,
   "metadata": {
    "collapsed": false
   },
   "outputs": [
    {
     "data": {
      "text/plain": [
       "'02-123-4567'"
      ]
     },
     "execution_count": 50,
     "metadata": {},
     "output_type": "execute_result"
    }
   ],
   "source": [
    "m = telChecker.match(\"02-123-4567\")\n",
    "m.groups()"
   ]
  },
  {
   "cell_type": "code",
   "execution_count": 52,
   "metadata": {
    "collapsed": false
   },
   "outputs": [
    {
     "data": {
      "text/plain": [
       "'02-123-4567'"
      ]
     },
     "execution_count": 52,
     "metadata": {},
     "output_type": "execute_result"
    }
   ],
   "source": [
    "m.group()"
   ]
  },
  {
   "cell_type": "code",
   "execution_count": 54,
   "metadata": {
    "collapsed": false
   },
   "outputs": [
    {
     "data": {
      "text/plain": [
       "'02'"
      ]
     },
     "execution_count": 54,
     "metadata": {},
     "output_type": "execute_result"
    }
   ],
   "source": [
    "m.group(1)"
   ]
  },
  {
   "cell_type": "code",
   "execution_count": 55,
   "metadata": {
    "collapsed": false
   },
   "outputs": [
    {
     "data": {
      "text/plain": [
       "'123'"
      ]
     },
     "execution_count": 55,
     "metadata": {},
     "output_type": "execute_result"
    }
   ],
   "source": [
    "m.group(2)"
   ]
  }
 ],
 "metadata": {
  "kernelspec": {
   "display_name": "Python 3",
   "language": "python",
   "name": "python3"
  },
  "language_info": {
   "codemirror_mode": {
    "name": "ipython",
    "version": 3
   },
   "file_extension": ".py",
   "mimetype": "text/x-python",
   "name": "python",
   "nbconvert_exporter": "python",
   "pygments_lexer": "ipython3",
   "version": "3.4.3"
  }
 },
 "nbformat": 4,
 "nbformat_minor": 0
}
