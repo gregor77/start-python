{
 "cells": [
  {
   "cell_type": "markdown",
   "metadata": {},
   "source": [
    "#3. 함 수\n",
    "## 스코핑 룰\n",
    "이름공간은 프로그램에서 쓰이는 이름이 저장되는 공간\n",
    "  - 이름 검색하는 규칙 = **LGB**(L:로컬, G:글로벌, B:Bulit-in) 순서\n",
    "  - 지역 영역에서 전역 영역이 변수를 사용하고 싶을 때는 **global** 키워드를 지정해서 변경"
   ]
  },
  {
   "cell_type": "code",
   "execution_count": 4,
   "metadata": {
    "collapsed": false
   },
   "outputs": [
    {
     "name": "stdout",
     "output_type": "stream",
     "text": [
      "result=3\n",
      "g=2\n",
      "2 3\n"
     ]
    }
   ],
   "source": [
    "g = 1\n",
    "def testScope(a):\n",
    "    global g  # global을 잘 쓰지 않는다. 튜플을 사용해서 다중의 값을 리턴하면 된다.\n",
    "    g = 2\n",
    "    return g+a\n",
    "\n",
    "print(\"result=%s\" % testScope(1))\n",
    "print(\"g=%s\" % g)\n",
    "\n",
    "def testScopeUseTuple(a):\n",
    "    return g, g+a\n",
    "g, x = testScopeUseTuple(1)\n",
    "print(g, x)\n"
   ]
  },
  {
   "cell_type": "code",
   "execution_count": 19,
   "metadata": {
    "collapsed": false
   },
   "outputs": [
    {
     "name": "stdout",
     "output_type": "stream",
     "text": [
      "1. origin =['A', 'M']\n",
      "2. list comprehension =['A', 'M']\n"
     ]
    }
   ],
   "source": [
    "def intersect(prelist, postlist):\n",
    "    retList = []\n",
    "    for x in prelist:\n",
    "        if x in postlist and x not in retList:\n",
    "            retList.append(x)\n",
    "    return retList\n",
    "\n",
    "list1 = \"SPAM\"\n",
    "list2 = \"EGG\"\n",
    "intersect(list1, list2)\n",
    "\n",
    "print(\"1. origin =%s\" % intersect(list1, ['H','A','M']))\n",
    "\n",
    "def intersect2(prelist, postlist):\n",
    "    retList = []\n",
    "    retList = [x for x in prelist if x in postlist and x not in retList]\n",
    "    return retList\n",
    "\n",
    "print(\"2. list comprehension =%s\" % intersect2(list1, ['H','A','M']))"
   ]
  },
  {
   "cell_type": "code",
   "execution_count": 22,
   "metadata": {
    "collapsed": false
   },
   "outputs": [
    {
     "name": "stdout",
     "output_type": "stream",
     "text": [
      "['H', 'A', 'M']\n"
     ]
    },
    {
     "data": {
      "text/plain": [
       "['J', 'A', 'M']"
      ]
     },
     "execution_count": 22,
     "metadata": {},
     "output_type": "execute_result"
    }
   ],
   "source": [
    "def change(x):\n",
    "    x = x[:]  # deep copy -> 입력받은 객체는 바뀌지 않는다.\n",
    "    x[0] = \"H\"\n",
    "    print(x)\n",
    "    return None\n",
    "\n",
    "wordlist = [\"J\", \"A\", \"M\"]\n",
    "change(wordlist)\n",
    "wordlist"
   ]
  },
  {
   "cell_type": "markdown",
   "metadata": {},
   "source": [
    "##3.5  함수의 인자\n",
    "###기본값을 전달하는 경우"
   ]
  },
  {
   "cell_type": "code",
   "execution_count": 27,
   "metadata": {
    "collapsed": false
   },
   "outputs": [
    {
     "data": {
      "text/plain": [
       "220"
      ]
     },
     "execution_count": 27,
     "metadata": {},
     "output_type": "execute_result"
    }
   ],
   "source": [
    "def times(a=10, b=20):\n",
    "    return (a+1)*b\n",
    "\n",
    "times()"
   ]
  },
  {
   "cell_type": "markdown",
   "metadata": {},
   "source": [
    "### 키워드 인자 : 인자 이름으로 값을 전달하는 경우, 변수의 전달 순서는 중요하지 않다."
   ]
  },
  {
   "cell_type": "code",
   "execution_count": 30,
   "metadata": {
    "collapsed": false
   },
   "outputs": [
    {
     "data": {
      "text/plain": [
       "180"
      ]
     },
     "execution_count": 30,
     "metadata": {},
     "output_type": "execute_result"
    }
   ],
   "source": [
    "times(b=30, a=5)"
   ]
  },
  {
   "cell_type": "markdown",
   "metadata": {},
   "source": [
    "### 가변 인자\n",
    "* '*'를 함수 인자 앞에 붙이면 정해지지 않은 수의 인자를 받겠다.\n",
    "* 가변 인자 리스트는 입력 받은 인자를 튜플에 저장한다."
   ]
  },
  {
   "cell_type": "code",
   "execution_count": null,
   "metadata": {
    "collapsed": false
   },
   "outputs": [],
   "source": [
    "def test(*args):\n",
    "    print(type(args))\n",
    "    \n",
    "test(1, 2)"
   ]
  },
  {
   "cell_type": "markdown",
   "metadata": {},
   "source": [
    "### 정의되지 않은 인자 처리하기\n",
    "* '\\*\\*'를 붙이면 정의되지 않은 인자를 **사전 형식**으로 전달받을 수 있다."
   ]
  },
  {
   "cell_type": "code",
   "execution_count": 10,
   "metadata": {
    "collapsed": false
   },
   "outputs": [
    {
     "data": {
      "text/plain": [
       "'http://test.com:8080/?id=gregor77&pw=admin&'"
      ]
     },
     "execution_count": 10,
     "metadata": {},
     "output_type": "execute_result"
    }
   ],
   "source": [
    "def userURIBuilder(server, port, **user):\n",
    "    str = \"http://\" + server + \":\" + port + \"/?\"\n",
    "    for key in user.keys():\n",
    "        str += key + \"=\" + user[key] + \"&\"\n",
    "    return str\n",
    "\n",
    "userURIBuilder(\"test.com\", \"8080\", id=\"gregor77\", pw=\"admin\")"
   ]
  },
  {
   "cell_type": "code",
   "execution_count": 7,
   "metadata": {
    "collapsed": false
   },
   "outputs": [
    {
     "name": "stdout",
     "output_type": "stream",
     "text": [
      "test\n"
     ]
    }
   ],
   "source": [
    "print(\"test\")"
   ]
  },
  {
   "cell_type": "markdown",
   "metadata": {},
   "source": [
    "##3.6 람다 함수\n",
    "이름이 없고 함수 객체만 존재하는 익명 함수를 만들 수 있다. 간단한 함수라면 람다를 사용하는 것이 편리할 때가 있다."
   ]
  },
  {
   "cell_type": "code",
   "execution_count": 8,
   "metadata": {
    "collapsed": false
   },
   "outputs": [
    {
     "data": {
      "text/plain": [
       "6"
      ]
     },
     "execution_count": 8,
     "metadata": {},
     "output_type": "execute_result"
    }
   ],
   "source": [
    "g = lambda x,y : x*y\n",
    "g(2,3)"
   ]
  },
  {
   "cell_type": "code",
   "execution_count": 9,
   "metadata": {
    "collapsed": false
   },
   "outputs": [
    {
     "data": {
      "text/plain": [
       "9"
      ]
     },
     "execution_count": 9,
     "metadata": {},
     "output_type": "execute_result"
    }
   ],
   "source": [
    "(lambda x: x*x)(3)"
   ]
  },
  {
   "cell_type": "markdown",
   "metadata": {},
   "source": [
    "##3.7 재귀 함수\n",
    "재귀적 (recursive)함수 호출은 함수 내부에서 자기 자신을 호출하는 것을 뜻한다."
   ]
  },
  {
   "cell_type": "code",
   "execution_count": 4,
   "metadata": {
    "collapsed": false
   },
   "outputs": [
    {
     "data": {
      "text/plain": [
       "3628800"
      ]
     },
     "execution_count": 4,
     "metadata": {},
     "output_type": "execute_result"
    }
   ],
   "source": [
    "def factorial(x):\n",
    "    if x == 1:\n",
    "        return 1\n",
    "    return x * factorial(x-1)\n",
    "\n",
    "factorial(10)"
   ]
  },
  {
   "cell_type": "markdown",
   "metadata": {},
   "source": [
    "### pass\n",
    "아무일도 하지 않는 코드를 작성할때 사용한다.\n",
    "아무것도 하지 않는 함수, 클래스를 만들때 사용한다."
   ]
  },
  {
   "cell_type": "code",
   "execution_count": null,
   "metadata": {
    "collapsed": true
   },
   "outputs": [],
   "source": [
    "while True:\n",
    "    pass  # 빠져나가려면 키보드에서 ctrl + c를 누른다."
   ]
  },
  {
   "cell_type": "markdown",
   "metadata": {},
   "source": [
    "### \\_\\_doc\\_\\_ \n",
    "* 속성은 모든 객체의 부모님 object에 포함된 기본적인 속성, 객체에 대한 document를 적는데 사용\n",
    "* \"\"\"(쌍따옴표 3개)를 이용해서 설명을 적을 수 있다."
   ]
  },
  {
   "cell_type": "code",
   "execution_count": 12,
   "metadata": {
    "collapsed": false
   },
   "outputs": [
    {
     "name": "stdout",
     "output_type": "stream",
     "text": [
      "Help on built-in function print in module builtins:\n",
      "\n",
      "print(...)\n",
      "    print(value, ..., sep=' ', end='\\n', file=sys.stdout, flush=False)\n",
      "    \n",
      "    Prints the values to a stream, or to sys.stdout by default.\n",
      "    Optional keyword arguments:\n",
      "    file:  a file-like object (stream); defaults to the current sys.stdout.\n",
      "    sep:   string inserted between values, default a space.\n",
      "    end:   string appended after the last value, default a newline.\n",
      "    flush: whether to forcibly flush the stream.\n",
      "\n"
     ]
    }
   ],
   "source": [
    "help(print)"
   ]
  },
  {
   "cell_type": "code",
   "execution_count": 16,
   "metadata": {
    "collapsed": false
   },
   "outputs": [
    {
     "name": "stdout",
     "output_type": "stream",
     "text": [
      "Help on function factorial in module __main__:\n",
      "\n",
      "factorial(x)\n",
      "\n",
      "Help on function factorial in module __main__:\n",
      "\n",
      "factorial(x)\n",
      "    return factorial value\n",
      "\n",
      "Help on function factorial2 in module __main__:\n",
      "\n",
      "factorial2(x)\n",
      "    Return the factorial of n, an exact integer >= 0\n",
      "\n"
     ]
    }
   ],
   "source": [
    "def factorial(x):\n",
    "    if x == 1:\n",
    "        return 1\n",
    "    return x * factorial(x-1)\n",
    "\n",
    "help(factorial)\n",
    "factorial.__doc__ = \"return factorial value\"\n",
    "help(factorial)\n",
    "\n",
    "def factorial2(x):\n",
    "    \"\"\"Return the factorial of n, an exact integer >= 0\"\"\"\n",
    "    if x == 1:\n",
    "        return 1\n",
    "    return x * factorial(x-1)\n",
    "#factorial2.__doc__ = \"return factorial value\"\n",
    "help(factorial2)\n"
   ]
  },
  {
   "cell_type": "markdown",
   "metadata": {},
   "source": [
    "## 3.10 이터레이터\n",
    "리스트, 튜플, 문자열처럼 순회 가능한 객체에는 iterator라는 특별한 객체가 포함되어 있다.\n",
    "\n",
    "* 이터레이터는 순회 가능한 객체의 요소에 순서대로 접근할 수 있는 객체이다."
   ]
  },
  {
   "cell_type": "markdown",
   "metadata": {},
   "source": [
    "## 3.11 제너레이터\n",
    "이터레이터를 만드는 간단하고도 강력한 도구이다.\n",
    "\n",
    "#### 1. 기존 동작 원리\n",
    "1. 함수가 호출되면 지역변수와 코드가 스택에 적재되고, 코드를 실행한다.\n",
    "2. 함수가 끝나면 결과값으 호출한 곳에 넘겨주고 함수 객체는 스택에서 삭제된다.\n",
    "\n",
    "#### 2. 제너레이터\n",
    "* ** yield **를 사용하는 경우?\n",
    "  * 함수를 끝내지 않고 호출한 곳에 값을 전달하고 함수는 메모리에 그대로 있는다.\n",
    "\n",
    "* 함수의 상태를 그대로 보존하고 다시 호출될 수 있다는 것 때문에 이터레이터 객체들 만들때 가장 강력한 도구가 될 수 있다.\n",
    "* **메모리가 절약되는 장점**\n",
    "  * 데이터를 미리 만들어 놓는 것이 아니라, 필요할 때마다 데이터를 생성할 수 있기 때문"
   ]
  },
  {
   "cell_type": "code",
   "execution_count": 21,
   "metadata": {
    "collapsed": false
   },
   "outputs": [
    {
     "name": "stdout",
     "output_type": "stream",
     "text": [
      "a\n",
      "b\n",
      "c\n"
     ]
    },
    {
     "ename": "StopIteration",
     "evalue": "",
     "output_type": "error",
     "traceback": [
      "\u001b[0;31m---------------------------------------------------------------------------\u001b[0m",
      "\u001b[0;31mStopIteration\u001b[0m                             Traceback (most recent call last)",
      "\u001b[0;32m<ipython-input-21-cc371ac1c89c>\u001b[0m in \u001b[0;36m<module>\u001b[0;34m()\u001b[0m\n\u001b[1;32m     10\u001b[0m \u001b[0mprint\u001b[0m\u001b[0;34m(\u001b[0m\u001b[0mnext\u001b[0m\u001b[0;34m(\u001b[0m\u001b[0mit\u001b[0m\u001b[0;34m)\u001b[0m\u001b[0;34m)\u001b[0m\u001b[0;34m\u001b[0m\u001b[0m\n\u001b[1;32m     11\u001b[0m \u001b[0;34m\u001b[0m\u001b[0m\n\u001b[0;32m---> 12\u001b[0;31m \u001b[0mnext\u001b[0m\u001b[0;34m(\u001b[0m\u001b[0mit\u001b[0m\u001b[0;34m)\u001b[0m\u001b[0;34m\u001b[0m\u001b[0m\n\u001b[0m\u001b[1;32m     13\u001b[0m \u001b[0mit\u001b[0m\u001b[0;34m.\u001b[0m\u001b[0m__next__\u001b[0m\u001b[0;34m(\u001b[0m\u001b[0;34m)\u001b[0m  \u001b[0;31m# 요소의 끝 부분에서 __next__()를 실행하면 StopIteration 예외가 발생합니다.\u001b[0m\u001b[0;34m\u001b[0m\u001b[0m\n",
      "\u001b[0;31mStopIteration\u001b[0m: "
     ]
    }
   ],
   "source": [
    "def abc():\n",
    "    data = \"abc\"\n",
    "    for char in data:\n",
    "        yield char  # return 대신에 yield를 쓰면 된다.\n",
    "        # 값을 하나씩 나열해서 리턴을 하는 것을 의미. 상태가 유지되면서 끝까지 가서 값을 하나씩 꺼내 올때 사용\n",
    "\n",
    "it = iter(abc())\n",
    "print(next(it))\n",
    "print(next(it))\n",
    "print(next(it))\n",
    "\n",
    "next(it)\n",
    "it.__next__()  # 요소의 끝 부분에서 __next__()를 실행하면 StopIteration 예외가 발생합니다."
   ]
  }
 ],
 "metadata": {
  "kernelspec": {
   "display_name": "Python 3",
   "language": "python",
   "name": "python3"
  }
 },
 "nbformat": 4,
 "nbformat_minor": 0
}
