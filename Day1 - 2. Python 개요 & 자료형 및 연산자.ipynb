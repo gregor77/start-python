{
 "cells": [
  {
   "cell_type": "markdown",
   "metadata": {},
   "source": [
    "# Python 개요\n",
    "\n",
    "#### 강의 소개\n",
    "* 김종덕 강사 (MCT)\n",
    "  - papasmf1@gmail.co\n",
    "  - papasmf.blogspot.kr\n",
    "* 강의자료 : 압축파일 메일로 전송 (Window 기반)\n",
    " \n",
    "#### why python?\n",
    "* 폴리글랏 프로그래밍\n",
    "* techneedle.com : 외국 기사를 자발적으로 번역해서 공유해주는 사이트\n",
    "  - \"미국서 연봉이 가장 높은 프로그래밍 언어는?\" 을 보면 python 3위\n",
    "* TIOBE\n",
    "\n",
    "#### Python 만들어진거 모있나?\n",
    " * Bittorrent, 유투브"
   ]
  },
  {
   "cell_type": "code",
   "execution_count": null,
   "metadata": {
    "collapsed": true
   },
   "outputs": [],
   "source": []
  },
  {
   "cell_type": "markdown",
   "metadata": {},
   "source": [
    "# 자료형 및 연산자\n",
    "* 리스트 : [], 순서가 존재\n",
    "* 세트 : {}, 중복 불가, 순서 X\n",
    "* 튜플 : (), 변경 불가, 속도는 더 빠르다\n",
    "* 사전 : {key : value}"
   ]
  },
  {
   "cell_type": "code",
   "execution_count": 9,
   "metadata": {
    "collapsed": false
   },
   "outputs": [
    {
     "name": "stdout",
     "output_type": "stream",
     "text": [
      "[1, 2, 3]\n",
      "{1, 2, 3}\n",
      "(3, 2, 1)\n",
      "{'name': 'sungjin'}\n"
     ]
    }
   ],
   "source": [
    "l = [1, 2, 3]\n",
    "s = {2, 1, 2, 3, 1}\n",
    "t = (3, 2, 1)\n",
    "d = {\"name\" : \"sungjin\"}\n",
    "\n",
    "print(l)\n",
    "print(s)\n",
    "print(t)\n",
    "print(d)"
   ]
  },
  {
   "cell_type": "markdown",
   "metadata": {},
   "source": [
    "* 연속 라인으로 표기하는 경우(컬럼이 부족한 경우에) --> \"\\\" 사용\n",
    "* 문자열 출력시 \"\"\" 을 사용하면 여러줄을 묶은 것으로 인식한다.\n",
    "* Python 들여쓰기는 양날의 검 : 가독성 증대할 수도 있지만, 버그를 발견하기 힘들 수도 있다."
   ]
  },
  {
   "cell_type": "code",
   "execution_count": 14,
   "metadata": {
    "collapsed": false
   },
   "outputs": [
    {
     "name": "stdout",
     "output_type": "stream",
     "text": [
      "연결된 라인....\n"
     ]
    }
   ],
   "source": [
    "a, b = 1, 3 #여러 값을 다중 할당하는 것도 튜플이 생략되어 있는 것이다.\n",
    "\n",
    "if (a == 1) and \\\n",
    "    (b == 3):\n",
    "    print(\"연결된 라인....\")"
   ]
  },
  {
   "cell_type": "code",
   "execution_count": 15,
   "metadata": {
    "collapsed": false
   },
   "outputs": [
    {
     "name": "stdout",
     "output_type": "stream",
     "text": [
      "여러줄로\n",
      "코딩하는 경우\n",
      "\n"
     ]
    }
   ],
   "source": [
    "print(\"\"\"여러줄로\n",
    "코딩하는 경우\n",
    "\"\"\")"
   ]
  },
  {
   "cell_type": "markdown",
   "metadata": {},
   "source": [
    "## list\n",
    "* 기존 리스트에 값을 추가할때는 append(), 원하는 index에 값을 추가할 때는 insert() 사용\n",
    "* index() 함수를 사용하면 객체의 위치를 확인할 수 있다.\n",
    "* pop(), remove() , sort()"
   ]
  },
  {
   "cell_type": "code",
   "execution_count": 26,
   "metadata": {
    "collapsed": false
   },
   "outputs": [
    {
     "name": "stdout",
     "output_type": "stream",
     "text": [
      "['red', 'green', 'gold']\n",
      "['red', 'green', 'gold', 'black']\n",
      "['red', 'blue', 'green', 'gold', 'black']\n",
      "['red', 'blue', 'green', 'gold', 'black', 'red']\n",
      "['red', 'blue', 'green', 'gold', 'black', 'red', 'r', 'e', 'd']\n",
      "5\n",
      "2\n",
      "['red', 'blue', 'green', 'gold', 'black', 'red']\n"
     ]
    }
   ],
   "source": [
    "colors = ['red', 'green', 'gold']\n",
    "print(colors)\n",
    "\n",
    "colors.append('black')\n",
    "print(colors)\n",
    "\n",
    "colors.insert(1, 'blue')\n",
    "print(colors)\n",
    "\n",
    "colors += ['red']\n",
    "print(colors)\n",
    "\n",
    "colors += 'red'\n",
    "print(colors)\n",
    "\n",
    "print(colors.index('red', 1))\n",
    "\n",
    "print(colors.count('red'))\n",
    "\n",
    "colors.pop() #출력하고 나면 값이 빠져 나간다.\n",
    "colors.pop()\n",
    "colors.pop()\n",
    "print(colors)"
   ]
  },
  {
   "cell_type": "code",
   "execution_count": 36,
   "metadata": {
    "collapsed": false
   },
   "outputs": [
    {
     "name": "stdout",
     "output_type": "stream",
     "text": [
      "['mark', 7, 9, [100, 100]]\n",
      "[7, 9, [100, 100]]\n"
     ]
    },
    {
     "data": {
      "text/plain": [
       "[1, 'dave', 3.14, ['mark', 7, 9], 10]"
      ]
     },
     "execution_count": 36,
     "metadata": {},
     "output_type": "execute_result"
    }
   ],
   "source": [
    "a = [1, 'dave', 3.14, ['mark', 7, 9, [100,100]], 10]\n",
    "a[1]\n",
    "\n",
    "print(a[3])\n",
    "\n",
    "print(a[3][1:])\n",
    "\n",
    "a[3].pop()\n",
    "a[3]\n",
    "a"
   ]
  },
  {
   "cell_type": "markdown",
   "metadata": {},
   "source": [
    "## Set\n",
    "* 수학의 집합과 동일\n",
    "* union, intersection"
   ]
  },
  {
   "cell_type": "code",
   "execution_count": 54,
   "metadata": {
    "collapsed": false
   },
   "outputs": [
    {
     "name": "stdout",
     "output_type": "stream",
     "text": [
      "{1, 2, 3, 4, 5}\n",
      "{3}\n"
     ]
    },
    {
     "data": {
      "text/plain": [
       "{3}"
      ]
     },
     "execution_count": 54,
     "metadata": {},
     "output_type": "execute_result"
    }
   ],
   "source": [
    "a = {1,2,3}\n",
    "b = {3,4,5}\n",
    "\n",
    "us = a.union(b)\n",
    "print(us)\n",
    "\n",
    "ic = a.intersection(b)\n",
    "print(ic)\n",
    "\n",
    "a - b\n",
    "\n",
    "a | b # union 함수를 사용한 것과 동일\n",
    "\n",
    "a & b # intersection과 동일"
   ]
  },
  {
   "cell_type": "markdown",
   "metadata": {},
   "source": [
    "## Tuple\n",
    "* 튜플이 주로 사용되는 경우\n",
    " * 함수에서 하나 이상의 값을 리턴하는 경우\n",
    " * 문자열 포매팅\n",
    " * 튜플에 있는 값을 함수 인수로 사용하는 경우"
   ]
  },
  {
   "cell_type": "code",
   "execution_count": 44,
   "metadata": {
    "collapsed": false
   },
   "outputs": [
    {
     "name": "stdout",
     "output_type": "stream",
     "text": [
      "9 20\n"
     ]
    }
   ],
   "source": [
    "# 함수에서 하나 이상의 값을 리턴하는 경우\n",
    "def calc(a, b):\n",
    "    return a+b, a*b\n",
    "x, y = calc(5, 4)\n",
    "print (x, y)"
   ]
  },
  {
   "cell_type": "code",
   "execution_count": 47,
   "metadata": {
    "collapsed": false
   },
   "outputs": [
    {
     "name": "stdout",
     "output_type": "stream",
     "text": [
      "id:kim, name:kimjd\n"
     ]
    }
   ],
   "source": [
    "# 문자열 포매팅\n",
    "print('id:%s, name:%s' % ('kim', 'kimjd'))"
   ]
  },
  {
   "cell_type": "code",
   "execution_count": 55,
   "metadata": {
    "collapsed": false
   },
   "outputs": [
    {
     "data": {
      "text/plain": [
       "(9, 20)"
      ]
     },
     "execution_count": 55,
     "metadata": {},
     "output_type": "execute_result"
    }
   ],
   "source": [
    "# 튜플에 있는 값을 함수 인수로 사용하는 경우\n",
    "args = (4, 5)\n",
    "calc(*args)  # * : 하나가 아니라 다중의 값을 가지고 있다고 튜플 형태로 명시하는 것을 의미, 튜플 형태의 값을 내부적으로 가지고 있다."
   ]
  },
  {
   "cell_type": "code",
   "execution_count": 61,
   "metadata": {
    "collapsed": false
   },
   "outputs": [
    {
     "name": "stdout",
     "output_type": "stream",
     "text": [
      "<class 'tuple'>\n"
     ]
    },
    {
     "data": {
      "text/plain": [
       "(1, 2, 3)"
      ]
     },
     "execution_count": 61,
     "metadata": {},
     "output_type": "execute_result"
    }
   ],
   "source": [
    "t = (1, 2, 3)\n",
    "print(type(t))\n",
    "\n",
    "t"
   ]
  },
  {
   "cell_type": "markdown",
   "metadata": {},
   "source": [
    "## Dict\n",
    "* key, value로 리턴\n",
    "* dict.keys(), dict.values()의 리턴타입은 set이다"
   ]
  },
  {
   "cell_type": "code",
   "execution_count": 83,
   "metadata": {
    "collapsed": false
   },
   "outputs": [
    {
     "name": "stdout",
     "output_type": "stream",
     "text": [
      "('grape', 'purple')\n",
      "('apple', 'red')\n",
      "('banana', 'yellow')\n",
      "('cherry', 'red')\n"
     ]
    },
    {
     "data": {
      "text/plain": [
       "dict_values"
      ]
     },
     "execution_count": 83,
     "metadata": {},
     "output_type": "execute_result"
    }
   ],
   "source": [
    "map = {\"apple\":\"red\", \"banana\":\"yellow\", \"cherry\":\"red\"}\n",
    "map\n",
    "\n",
    "map[\"grape\"] = \"purple\"\n",
    "map\n",
    "\n",
    "for m in map.items():\n",
    "    print(m)\n",
    "    \n",
    "skey = set(map.keys())\n",
    "type(map.keys())\n",
    "type(map.values())"
   ]
  },
  {
   "cell_type": "markdown",
   "metadata": {},
   "source": [
    "## 얕은 복사(shallow copy)와 깊은 복사(deep copy)\n",
    "\n",
    "* copy 모듈을 사용"
   ]
  },
  {
   "cell_type": "code",
   "execution_count": 10,
   "metadata": {
    "collapsed": false
   },
   "outputs": [
    {
     "name": "stdout",
     "output_type": "stream",
     "text": [
      "a=[38, [2, 3]]\n",
      "b=[38, [2, 3]]\n",
      "shallow copy cp_a[1, [2, 3]]\n",
      "deep copy dcp_a=[1, [2, 3]]\n",
      "\n",
      "4360212424 4360761416 4360289416\n"
     ]
    },
    {
     "data": {
      "text/plain": [
       "[1, [2, 3]]"
      ]
     },
     "execution_count": 10,
     "metadata": {},
     "output_type": "execute_result"
    }
   ],
   "source": [
    "import copy\n",
    "a = [1,[2,3]]\n",
    "b = a\n",
    "\n",
    "# https://docs.python.org/3/library/copy.html?highlight=copy.copy#copy.copy\n",
    "# copy()는 shallow copy라고 나오는데 왜 주소가 다르고, 값도 다른 deepcopy 처럼 나오는가??\n",
    "# 참조 : http://stackoverflow.com/questions/17246693/what-exactly-is-the-difference-between-shallow-copy-deepcopy-and-normal-assignm\n",
    "cp_a = copy.copy(a) \n",
    "\n",
    "dcp_a = copy.deepcopy(a)\n",
    "\n",
    "a[0] = 38\n",
    "print(\"a=%s\" % a)\n",
    "print(\"b=%s\" % b)\n",
    "print(\"shallow copy cp_a%s\" % cp_a)\n",
    "print(\"deep copy dcp_a=%s\" % dcp_a)\n",
    "\n",
    "print()\n",
    "print(id(a), id(cp_a), id(dcp_a)) # id 함수를 통해서 객체의 주소를 알 수 있다.\n",
    "\n",
    "a[1].append(4)\n",
    "a\n",
    "b\n",
    "cp_a\n",
    "dcp_a\n",
    "#id(a), id(b), id(cp_a), id(dcp_a)"
   ]
  },
  {
   "cell_type": "code",
   "execution_count": 25,
   "metadata": {
    "collapsed": false
   },
   "outputs": [
    {
     "name": "stdout",
     "output_type": "stream",
     "text": [
      "False\n",
      "4297327232 4297327232\n",
      "True\n",
      "\n",
      "4361247688 4361258696\n",
      "True\n",
      "[1, [4, 3]] [1, [4, 3]]\n",
      "[1, [4, 3], 5] [1, [4, 3]]\n"
     ]
    }
   ],
   "source": [
    "# shallow copy 확인\n",
    "import copy\n",
    "\n",
    "a = [1,2,3,4]\n",
    "b = copy.copy(a)\n",
    "\n",
    "print(id(a) == id(b))\n",
    "print(id(a[0]), id(b[0]))\n",
    "print(id(a[0]) == id(b[0]))\n",
    "\n",
    "print()\n",
    "\n",
    "# compound 객체를 포함하는 경우\n",
    "c = [1, [2,3]]\n",
    "d = copy.copy(c)\n",
    "print(id(c), id(d))\n",
    "print(id(c[0]) == id(d[0])) # 각 객체에 주소값은 동일한다.\n",
    "\n",
    "c[1][0] = 4\n",
    "print(c, d)\n",
    "\n",
    "c.append(5)\n",
    "print(c, d)"
   ]
  },
  {
   "cell_type": "code",
   "execution_count": 6,
   "metadata": {
    "collapsed": false
   },
   "outputs": [
    {
     "name": "stdout",
     "output_type": "stream",
     "text": [
      "2.5\n",
      "2\n"
     ]
    }
   ],
   "source": [
    "print(5/2)\n",
    "\n",
    "print(5//2)\n"
   ]
  },
  {
   "cell_type": "markdown",
   "metadata": {},
   "source": [
    "# 함수"
   ]
  }
 ],
 "metadata": {
  "kernelspec": {
   "display_name": "Python 3",
   "language": "python",
   "name": "python3"
  },
  "language_info": {
   "codemirror_mode": {
    "name": "ipython",
    "version": 3
   },
   "file_extension": ".py",
   "mimetype": "text/x-python",
   "name": "python",
   "nbconvert_exporter": "python",
   "pygments_lexer": "ipython3",
   "version": "3.4.3"
  }
 },
 "nbformat": 4,
 "nbformat_minor": 0
}
