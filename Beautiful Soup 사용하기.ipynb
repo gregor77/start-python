{
 "cells": [
  {
   "cell_type": "markdown",
   "metadata": {},
   "source": [
    "### 외부 라이브러리 설치\n",
    "인터넷상에서 외부 라이브러리 설치\n",
    "* 파이썬 : ez_setup, pip\n",
    "* node.js : npm"
   ]
  },
  {
   "cell_type": "markdown",
   "metadata": {},
   "source": [
    "# Beautiful Soup 사용하기\n",
    "1. 참조\n",
    "  * https://pypi.python.org/pypi/beautifulsoup4\n",
    "  * http://www.crummy.com/software/BeautifulSoup/bs4/doc/\n",
    "\n",
    "2. 설치\n",
    "  * beautifulsoup 4버전은 python3 지원\n",
    "    >$pip install beautifulsoup4\n",
    "  \n",
    "  * 파싱할때 추가적인 lib있으면 편해서\n",
    "    >$pip install lxml\n",
    "  \n",
    "    >$pip install html5lib"
   ]
  },
  {
   "cell_type": "markdown",
   "metadata": {},
   "source": [
    "#### urllib.urlopen\n",
    "http://stackoverflow.com/questions/3969726/attributeerror-module-object-has-no-attribute-urlopen\n",
    "\n",
    "* python 2 : urllib.urlopen\n",
    "* python 3 : urllib.request.urlopen"
   ]
  },
  {
   "cell_type": "code",
   "execution_count": 18,
   "metadata": {
    "collapsed": false
   },
   "outputs": [
    {
     "name": "stdout",
     "output_type": "stream",
     "text": [
      "<td class=\"title\">\n",
      "<a href=\"/webtoon/detail.nhn?titleId=20853&amp;no=989&amp;weekday=fri\" onclick=\"clickcr(this,'lst.title','20853','989',event)\">985. 금목걸이</a>\n",
      "</td>\n",
      "<td class=\"title\">\n",
      "<a href=\"/webtoon/detail.nhn?titleId=20853&amp;no=988&amp;weekday=fri\" onclick=\"clickcr(this,'lst.title','20853','988',event)\">984. 드론 침공</a>\n",
      "</td>\n",
      "<td class=\"title\">\n",
      "<a href=\"/webtoon/detail.nhn?titleId=20853&amp;no=987&amp;weekday=fri\" onclick=\"clickcr(this,'lst.title','20853','987',event)\">983. 미적 감각</a>\n",
      "</td>\n",
      "<td class=\"title\">\n",
      "<a href=\"/webtoon/detail.nhn?titleId=20853&amp;no=986&amp;weekday=fri\" onclick=\"clickcr(this,'lst.title','20853','986',event)\">982. 목소리</a>\n",
      "</td>\n",
      "<td class=\"title\">\n",
      "<a href=\"/webtoon/detail.nhn?titleId=20853&amp;no=985&amp;weekday=fri\" onclick=\"clickcr(this,'lst.title','20853','985',event)\">981. 가디언</a>\n",
      "</td>\n",
      "<td class=\"title\">\n",
      "<a href=\"/webtoon/detail.nhn?titleId=20853&amp;no=984&amp;weekday=fri\" onclick=\"clickcr(this,'lst.title','20853','984',event)\">980. 파이어 이멀전시</a>\n",
      "</td>\n",
      "<td class=\"title\">\n",
      "<a href=\"/webtoon/detail.nhn?titleId=20853&amp;no=983&amp;weekday=fri\" onclick=\"clickcr(this,'lst.title','20853','983',event)\">979. 조춤</a>\n",
      "</td>\n",
      "<td class=\"title\">\n",
      "<a href=\"/webtoon/detail.nhn?titleId=20853&amp;no=982&amp;weekday=fri\" onclick=\"clickcr(this,'lst.title','20853','982',event)\">978. 왕</a>\n",
      "</td>\n",
      "<td class=\"title\">\n",
      "<a href=\"/webtoon/detail.nhn?titleId=20853&amp;no=981&amp;weekday=fri\" onclick=\"clickcr(this,'lst.title','20853','981',event)\">977. 인터스텔라</a>\n",
      "</td>\n",
      "<td class=\"title\">\n",
      "<a href=\"/webtoon/detail.nhn?titleId=20853&amp;no=980&amp;weekday=fri\" onclick=\"clickcr(this,'lst.title','20853','980',event)\">976. 집들이</a>\n",
      "</td>\n"
     ]
    }
   ],
   "source": [
    "import urllib\n",
    "from bs4 import BeautifulSoup\n",
    "html = \"<div><span><a href=http://www.naver.com>naver.com</a></span></div>\"\n",
    "\n",
    "soup = BeautifulSoup(html)\n",
    "#print(soup.prettify())\n",
    "\n",
    "# 조석만화 크롤링\n",
    "data = urllib.request.urlopen(\"http://comic.naver.com/webtoon/list.nhn?titleId=20853&weekday=fri\")\n",
    "\n",
    "soup = BeautifulSoup(data)\n",
    "\n",
    "cartoons = soup.findAll('td', attrs={'class':'title'})\n",
    "title = cartoons[0].find('a').text\n",
    "link = cartoons[0].find('a')['href']\n",
    "\n",
    "#print(title)\n",
    "\n",
    "#print(link)\n",
    "\n",
    "for item in cartoons:\n",
    "    print(item)"
   ]
  },
  {
   "cell_type": "code",
   "execution_count": null,
   "metadata": {
    "collapsed": true
   },
   "outputs": [],
   "source": []
  }
 ],
 "metadata": {
  "kernelspec": {
   "display_name": "Python 3",
   "language": "python",
   "name": "python3"
  },
  "language_info": {
   "codemirror_mode": {
    "name": "ipython",
    "version": 3
   },
   "file_extension": ".py",
   "mimetype": "text/x-python",
   "name": "python",
   "nbconvert_exporter": "python",
   "pygments_lexer": "ipython3",
   "version": "3.4.3"
  }
 },
 "nbformat": 4,
 "nbformat_minor": 0
}
