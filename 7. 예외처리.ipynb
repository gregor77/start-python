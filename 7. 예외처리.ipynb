{
 "cells": [
  {
   "cell_type": "markdown",
   "metadata": {},
   "source": [
    "# 7. 예외 처리\n",
    "구문 에러 없이 잘 작성된 코드라도 실행 도중에 에러가 발생할 수 있다. try 구문을 이용하여 발생가능성이 있는 예외를 적절하게 처리 가능하다."
   ]
  },
  {
   "cell_type": "markdown",
   "metadata": {},
   "source": [
    "## 7.3 예외 처리\n",
    "예외 처리 코드:\n",
    "\n",
    "    try:\n",
    "        <예외발생 가능성이 있는 문장>\n",
    "    except <예외 종류>:\n",
    "        <예외처리 문장>\n",
    "    except (예외1, 예외2):\n",
    "        <예외처리 문장>\n",
    "    except 예외 as 인자:\n",
    "        <예외처리 문장>\n",
    "    else:\n",
    "        <예외가 발생하지 않은 경우 수행될 문장>\n",
    "    finally:\n",
    "        <예외 발생 유무에 상관없이 try 블록 이후 수행할 문장>\n",
    "\n",
    "* else: 는 잘 사용하지 않는다.\n",
    "\n",
    "* finally 블록은 항상 수행된다. 클렌징하는 소스가 주로 작성된다."
   ]
  },
  {
   "cell_type": "code",
   "execution_count": 22,
   "metadata": {
    "collapsed": false
   },
   "outputs": [
    {
     "name": "stdout",
     "output_type": "stream",
     "text": [
      "모든 인자는 숫자이어야 한다. unsupported operand type(s) for /: 'int' and 'str'\n",
      "에러에 상관없이 무조건 실행\n"
     ]
    }
   ],
   "source": [
    "def divide(a, b):\n",
    "    return a / b\n",
    "\n",
    "try:\n",
    "    c = divide(5, \"a\")\n",
    "except ZeroDivisionError:\n",
    "    print(\"두번째 인자는 0이면 안된다.\")\n",
    "except (OverflowError, FloatingPointError):\n",
    "    print(\"수치 연산에 관련된 에러입니다.\")\n",
    "except TypeError as e:\n",
    "    print(\"모든 인자는 숫자이어야 한다.\", e.args[0])  # e.args[0] : 에러 메세지\n",
    "except:\n",
    "    print(\"알 수 없는 에러가 발생했습니다.\")\n",
    "else:\n",
    "    print(\"연산 결과\", c)\n",
    "finally:\n",
    "    print(\"에러에 상관없이 무조건 실행\")"
   ]
  },
  {
   "cell_type": "markdown",
   "metadata": {},
   "source": [
    "## 7.4  raise\n",
    "강제로 예외를 일으키는 경우 사용한다. ex. java에서 throw new Exception과 유사\n",
    "* raise {{Exception}}        # 해당 예외를 발생한다.\n",
    "* raise {{Exception(data)}}  # 예외 발생시 관련 데이터를 전달한다.\n",
    "* raise                      # 발생된 예외를 상위로 전달한다."
   ]
  },
  {
   "cell_type": "markdown",
   "metadata": {},
   "source": [
    "## 7.5 사용자 정의 예외\n",
    "내장 예외만으로는 한계가 있기 때문에 사용자 정의 예외를 정의할 수 있다."
   ]
  },
  {
   "cell_type": "code",
   "execution_count": 7,
   "metadata": {
    "collapsed": false
   },
   "outputs": [
    {
     "name": "stdout",
     "output_type": "stream",
     "text": [
      "Error - Second argument of PositiveDivide is  -3\n"
     ]
    }
   ],
   "source": [
    "class NegativeDivisionError(Exception):\n",
    "    def __init__(self, value):\n",
    "        self.value = value\n",
    "        \n",
    "def PositiveDivided(a, b):\n",
    "    if (b < 0):\n",
    "        raise NegativeDivisionError(b)\n",
    "    return a / b\n",
    "\n",
    "try:\n",
    "    ret = PositiveDivided(10, -3)\n",
    "    print(\"10 / 3 = {0}\".format(ret))\n",
    "except NegativeDivisionError as e:\n",
    "    print(\"Error - Second argument of PositiveDivide is \", e.value)\n",
    "except ZeroDivisionError as e:\n",
    "    print(\"Error - \", e.args[0])\n",
    "except:\n",
    "    print(\"Unexpected exception!\")\n",
    "    "
   ]
  }
 ],
 "metadata": {
  "kernelspec": {
   "display_name": "Python 3",
   "language": "python",
   "name": "python3"
  },
  "language_info": {
   "codemirror_mode": {
    "name": "ipython",
    "version": 3
   },
   "file_extension": ".py",
   "mimetype": "text/x-python",
   "name": "python",
   "nbconvert_exporter": "python",
   "pygments_lexer": "ipython3",
   "version": "3.4.3"
  }
 },
 "nbformat": 4,
 "nbformat_minor": 0
}
