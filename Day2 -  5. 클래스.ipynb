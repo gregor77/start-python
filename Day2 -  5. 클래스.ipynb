{
 "cells": [
  {
   "cell_type": "markdown",
   "metadata": {},
   "source": [
    "# 클래스\n",
    "파이썬에서는 기본적으로 클래스, 인스턴스의 모든 멤버 변수와 메서드의 접근 권한은 public이다. 즉, 외부에서 모든 클래스의 내용을 쉽게 확인/변경할 수 있다.\n",
    "\n",
    "* 정보 은닉을 위해서는 특별한 방법을 제공\n",
    "* self : 현재 인스턴스 객체를 가리킨다. (java의 this키워드와 동일)\n",
    "  * 명시적으로 메서드의 첫 인자는 인스턴스 객체가 된다."
   ]
  },
  {
   "cell_type": "code",
   "execution_count": 4,
   "metadata": {
    "collapsed": false
   },
   "outputs": [
    {
     "name": "stdout",
     "output_type": "stream",
     "text": [
      "<class 'type'>\n"
     ]
    }
   ],
   "source": [
    "class MyClass:\n",
    "    \"\"\"아주 간단한 클래스\"\"\"\n",
    "    pass\n",
    "\n",
    "dir() # 생성된 이름의 공간 확인\n",
    "\n",
    "print(type(MyClass))"
   ]
  },
  {
   "cell_type": "markdown",
   "metadata": {},
   "source": [
    "## 클래스 객체와 인스턴스 객체의 이름공간\n",
    "기본적으로 인스턴스 객체를 통해 변수나 함수의 이름을 찾는 경우 아래의 순서로 그 이름을 찾는다.\n",
    "> 인스턴스 객체 영역 -> 클래스 객체 영역 -> 전역 영역\n",
    "\n",
    "* 파이썬에서는 런타임(실행시간)에 각 클래스와 인스턴스 이름공간에 멤버 변수를 추가하거나 삭제할 수 있다.\n",
    "  * 동적 로딩, 동적 추가가 가능하다. (cf. C#, java는 정적타입 -> 불가)\n",
    "  \n",
    "* isinstance() : 인스턴스 객체가 어떤 클래스로부터 생성됐는지 확인하는 방법\n",
    "  * 버전 3이후로는 암묵적으로 object객체 상속."
   ]
  },
  {
   "cell_type": "code",
   "execution_count": 7,
   "metadata": {
    "collapsed": false
   },
   "outputs": [
    {
     "name": "stdout",
     "output_type": "stream",
     "text": [
      "p is instance of Person: True\n",
      "s is instance of Person: True\n",
      "p is instance of object: True\n",
      "p is instance of Bird: False\n"
     ]
    }
   ],
   "source": [
    "class Person:\n",
    "    pass\n",
    "class Bird:\n",
    "    pass\n",
    "class Student(Person):\n",
    "    pass\n",
    "\n",
    "p, s = Person(), Student()\n",
    "print(\"p is instance of Person:\", isinstance(p, Person))\n",
    "print(\"s is instance of Person:\", isinstance(s, Person))\n",
    "print(\"p is instance of object:\", isinstance(p, object))\n",
    "print(\"p is instance of Bird:\", isinstance(p, Bird))"
   ]
  },
  {
   "cell_type": "markdown",
   "metadata": {},
   "source": [
    "## 생성자, 소멸자 메서드\n",
    "* 생성자 메서드 : 초기화 작업, 인스턴스 객체가 생성될때 자동으로 호출\n",
    "* 소멸자 메서드 : 메모리 해제 작업, 인스턴스 객체의 레퍼런스 카운트가 0이 될때 호출"
   ]
  },
  {
   "cell_type": "code",
   "execution_count": 13,
   "metadata": {
    "collapsed": false
   },
   "outputs": [
    {
     "name": "stdout",
     "output_type": "stream",
     "text": [
      "Class is created! value= 20\n",
      "Class is deleted!\n"
     ]
    }
   ],
   "source": [
    "class MyClass:\n",
    "    def __init__(self, value):\n",
    "        self.value = value\n",
    "        print(\"Class is created! value=\", value)\n",
    "    def __del__(self):\n",
    "        print(\"Class is deleted!\")\n",
    "\n",
    "        \n",
    "def foo():\n",
    "    d = MyClass(20)  # 클래스의 인스턴스 객체는 foo() 함수의 내부에서 생성되어 함수 블럭을 벗어나게 되면 자동으로 소멸되게 된다.\n",
    "    \n",
    "foo()  # foo()함수만 호출해도 객체의 생성자, 소멸자가 호출된다."
   ]
  },
  {
   "cell_type": "code",
   "execution_count": null,
   "metadata": {
    "collapsed": true
   },
   "outputs": [],
   "source": []
  }
 ],
 "metadata": {
  "kernelspec": {
   "display_name": "Python 3",
   "language": "python",
   "name": "python3"
  },
  "language_info": {
   "codemirror_mode": {
    "name": "ipython",
    "version": 3
   },
   "file_extension": ".py",
   "mimetype": "text/x-python",
   "name": "python",
   "nbconvert_exporter": "python",
   "pygments_lexer": "ipython3",
   "version": "3.4.3"
  }
 },
 "nbformat": 4,
 "nbformat_minor": 0
}
