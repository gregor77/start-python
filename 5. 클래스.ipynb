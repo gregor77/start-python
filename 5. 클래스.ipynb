{
 "cells": [
  {
   "cell_type": "markdown",
   "metadata": {},
   "source": [
    "# 클래스\n",
    "파이썬에서는 기본적으로 클래스, 인스턴스의 모든 멤버 변수와 메서드의 접근 권한은 public이다. 즉, 외부에서 모든 클래스의 내용을 쉽게 확인/변경할 수 있다.\n",
    "\n",
    "* 정보 은닉을 위해서는 특별한 방법을 제공\n",
    "* self : 현재 인스턴스 객체를 가리킨다. (java의 this키워드와 동일)\n",
    "  * 명시적으로 메서드의 첫 인자는 인스턴스 객체가 된다."
   ]
  },
  {
   "cell_type": "code",
   "execution_count": 4,
   "metadata": {
    "collapsed": false
   },
   "outputs": [
    {
     "name": "stdout",
     "output_type": "stream",
     "text": [
      "<class 'type'>\n"
     ]
    }
   ],
   "source": [
    "class MyClass:\n",
    "    \"\"\"아주 간단한 클래스\"\"\"\n",
    "    pass\n",
    "\n",
    "dir() # 생성된 이름의 공간 확인\n",
    "\n",
    "print(type(MyClass))"
   ]
  },
  {
   "cell_type": "markdown",
   "metadata": {},
   "source": [
    "## 클래스 객체와 인스턴스 객체의 이름공간\n",
    "기본적으로 인스턴스 객체를 통해 변수나 함수의 이름을 찾는 경우 아래의 순서로 그 이름을 찾는다.\n",
    "> 인스턴스 객체 영역 -> 클래스 객체 영역 -> 전역 영역\n",
    "\n",
    "* 파이썬에서는 런타임(실행시간)에 각 클래스와 인스턴스 이름공간에 멤버 변수를 추가하거나 삭제할 수 있다.\n",
    "  * 동적 로딩, 동적 추가가 가능하다. (cf. C#, java는 정적타입 -> 불가)\n",
    "  \n",
    "* isinstance() : 인스턴스 객체가 어떤 클래스로부터 생성됐는지 확인하는 방법\n",
    "  * 버전 3이후로는 암묵적으로 object객체 상속."
   ]
  },
  {
   "cell_type": "code",
   "execution_count": 1,
   "metadata": {
    "collapsed": false
   },
   "outputs": [
    {
     "name": "stdout",
     "output_type": "stream",
     "text": [
      "p is instance of Person: True\n",
      "s is instance of Person: True\n",
      "p is instance of object: True\n",
      "p is instance of Bird: False\n"
     ]
    }
   ],
   "source": [
    "class Person:\n",
    "    pass\n",
    "class Bird:\n",
    "    pass\n",
    "\n",
    "# 상속을 받는 경우 파생형식 (부모형식)\n",
    "class Student(Person):\n",
    "    pass\n",
    "\n",
    "p, s = Person(), Student()\n",
    "print(\"p is instance of Person:\", isinstance(p, Person))\n",
    "print(\"s is instance of Person:\", isinstance(s, Person))\n",
    "print(\"p is instance of object:\", isinstance(p, object))\n",
    "print(\"p is instance of Bird:\", isinstance(p, Bird))"
   ]
  },
  {
   "cell_type": "markdown",
   "metadata": {},
   "source": [
    "## 생성자, 소멸자 메서드\n",
    "* 생성자 메서드 : 초기화 작업, 인스턴스 객체가 생성될때 자동으로 호출\n",
    "* 소멸자 메서드 : 메모리 해제 작업, 인스턴스 객체의 레퍼런스 카운트가 0이 될때 호출"
   ]
  },
  {
   "cell_type": "code",
   "execution_count": 10,
   "metadata": {
    "collapsed": false
   },
   "outputs": [
    {
     "name": "stdout",
     "output_type": "stream",
     "text": [
      "Class is created! value= 20\n",
      "Class is deleted! value= 20\n",
      "Class is created! value= 50\n",
      "Class is deleted! value= 50\n",
      "===================\n",
      "Class is created! value= 30\n",
      "Class is deleted! value= 10\n",
      "Class is deleted! value= 30\n",
      "Class is created! value= 10\n",
      "3\n",
      "Class is deleted! value= 10\n"
     ]
    }
   ],
   "source": [
    "class MyClass:\n",
    "    # 생성자 메서드\n",
    "    def __init__(self, value):\n",
    "        self.value = value\n",
    "        print(\"Class is created! value=\", value)\n",
    "    # 소멸자 메서드\n",
    "    def __del__(self):\n",
    "        print(\"Class is deleted! value=\", self.value)\n",
    "\n",
    "\n",
    "# 함수를 사용하는 경우\n",
    "def foo():\n",
    "    d = MyClass(20)  # 클래스의 인스턴스 객체는 foo() 함수의 내부에서 생성되어 함수 블럭을 벗어나게 되면 자동으로 소멸되게 된다.\n",
    "    \n",
    "foo()  # foo()함수만 호출해도 객체의 생성자, 소멸자가 호출된다.\n",
    "\n",
    "# 객체를 생성하고, 삭제\n",
    "myClass = MyClass(50)\n",
    "del myClass\n",
    "\n",
    "print(\"===================\")\n",
    "mc = MyClass(30)\n",
    "d_copy = mc\n",
    "\n",
    "del mc\n",
    "del d_copy\n",
    "\n",
    "#d_copy\n",
    "\n",
    "# reference count를 확인하고 싶을때\n",
    "d = MyClass(10)\n",
    "d_copy = d\n",
    "\n",
    "import sys\n",
    "print(sys.getrefcount(d_copy)) # refcount를 구하는 시점에 객체를 참조하기 때문에 count가 2가 아닌 1개가 더 늘어난 3이다.\n",
    "\n",
    "del d\n",
    "del d_copy"
   ]
  },
  {
   "cell_type": "markdown",
   "metadata": {},
   "source": [
    "## 5.6 정적 메서드, 클래스 메서드\n",
    "* 정적 메서드 : 클래스를 통해 직접 호출할 수 있는 메서드, 암묵적으로 받는 첫 인자가 필요하지 않는다.\n",
    "* 클래스 메서드 : 인스턴스 객체를 참조하는 self라는 인자를 선언하지 않는다. 암묵적으로 첫 인자로 클래스 객체가 전달된다.\n",
    "\n",
    "등록 방법\n",
    "> <호출할 메서드 이름\\> = staticmethod (클래스 내에 정의한 메서드 이름)\n",
    "\n",
    "> <호출할 메서드 이름\\> = classmethod (클래스 내에 정의한 메서드 이름)"
   ]
  },
  {
   "cell_type": "code",
   "execution_count": null,
   "metadata": {
    "collapsed": true
   },
   "outputs": [],
   "source": []
  },
  {
   "cell_type": "markdown",
   "metadata": {},
   "source": [
    "### private  멤버 속성 사용\n",
    "파이썬에서는 이름 변경 (Naming Mangling)으로 private으로 숨길 수 있다. 즉 클래스 내의 멤버 변수나 함수를 정의할 때, **\"\\_\\_\"로 시작하는 경우, 클래스 외부에서 참조할 때 자동적으로 '\\_클래스이름\\_\\_멤버이름'으로 변경된다.**\n",
    "\n",
    "* 생성자나 메서드 가지고만 접근하라"
   ]
  },
  {
   "cell_type": "code",
   "execution_count": null,
   "metadata": {
    "collapsed": true
   },
   "outputs": [],
   "source": []
  },
  {
   "cell_type": "markdown",
   "metadata": {},
   "source": [
    "## 5.7 연산자 중복 정의\n",
    "사용자 정의 객체에 대해 필요한 연산자를 내장 타입과 형태와 동작이 유사하도록 재정의하는 것을 의미한다. 연산자 중복은 일반적으로 벡터나 행력과 같은 수치 연산에서 자주 사용된다."
   ]
  },
  {
   "cell_type": "code",
   "execution_count": 11,
   "metadata": {
    "collapsed": false
   },
   "outputs": [
    {
     "name": "stdout",
     "output_type": "stream",
     "text": [
      "aBce\n",
      "ABCE\n"
     ]
    }
   ],
   "source": [
    "class GString:\n",
    "    def __init__(self, init=None):\n",
    "        self.content = init\n",
    "    def __sub__(self, str):\n",
    "        for i in str:\n",
    "            self.content = self.content.replace(i, '')\n",
    "        return GString(self.content)\n",
    "    def __abs__(self):\n",
    "        return GString(self.content.upper())\n",
    "    def Print(self):\n",
    "        print(self.content)\n",
    "        \n",
    "g = GString(\"aBcdef\")\n",
    "g -= \"df\"\n",
    "g.Print()\n",
    "g = abs(g)\n",
    "g.Print()"
   ]
  },
  {
   "cell_type": "markdown",
   "metadata": {},
   "source": [
    "## 5.8 상속\n",
    "#### 클래스 간의 관계 확인\n",
    "python3부터 모든 클래스는 암묵적으로 object 클래스를 상속받는다.\n",
    "> issubclass(자식 클래스, 부모 클래스)"
   ]
  },
  {
   "cell_type": "code",
   "execution_count": null,
   "metadata": {
    "collapsed": true
   },
   "outputs": [],
   "source": []
  }
 ],
 "metadata": {
  "kernelspec": {
   "display_name": "Python 3",
   "language": "python",
   "name": "python3"
  },
  "language_info": {
   "codemirror_mode": {
    "name": "ipython",
    "version": 3
   },
   "file_extension": ".py",
   "mimetype": "text/x-python",
   "name": "python",
   "nbconvert_exporter": "python",
   "pygments_lexer": "ipython3",
   "version": "3.4.3"
  }
 },
 "nbformat": 4,
 "nbformat_minor": 0
}
