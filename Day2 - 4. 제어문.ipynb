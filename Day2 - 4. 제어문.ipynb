{
 "cells": [
  {
   "cell_type": "markdown",
   "metadata": {},
   "source": [
    "#4. 제어\n",
    "\n",
    "파이썬은 switch 문이 없다. Case by case를 체크할 수 없기에 if..elif..else문을 활용해야 한다."
   ]
  },
  {
   "cell_type": "markdown",
   "metadata": {},
   "source": [
    "## if 문\n",
    "파이썬은 if 문의 조건절에 더 직관적인 표현 방식을 지원한다."
   ]
  },
  {
   "cell_type": "code",
   "execution_count": 8,
   "metadata": {
    "collapsed": false
   },
   "outputs": [
    {
     "name": "stdout",
     "output_type": "stream",
     "text": [
      "True\n",
      "Python True\n"
     ]
    }
   ],
   "source": [
    "# 기존 c, java에서는\n",
    "a = 10\n",
    "if a > 0 and a <= 10:\n",
    "    print(True)\n",
    "\n",
    "# 파이썬에서는 직관적인 표현 방식 지원\n",
    "if 0 < a <= 10:\n",
    "    print(\"Python True\")"
   ]
  },
  {
   "cell_type": "markdown",
   "metadata": {},
   "source": [
    "## 4.7 제어문과 관련된 유용한 함수\n",
    "\n",
    "## range() - 수열의 생성\n",
    "파이썬에서도 미리 만들어 놓은 수열을 이용해 일정한 수열의 범위만큼 반복할 수 있다.\n",
    "\n",
    "\n",
    "range 문법:\n",
    "\n",
    "    range(['시작값'], ['종료값'], ['증가값'])\n"
   ]
  },
  {
   "cell_type": "code",
   "execution_count": 37,
   "metadata": {
    "collapsed": false
   },
   "outputs": [
    {
     "name": "stdout",
     "output_type": "stream",
     "text": [
      "10\n",
      "12\n",
      "14\n",
      "16\n",
      "18\n"
     ]
    }
   ],
   "source": [
    "list(range(10, 0, -1))\n",
    "\n",
    "for i in range(10, 20 ,2):\n",
    "    print(i)"
   ]
  },
  {
   "cell_type": "markdown",
   "metadata": {},
   "source": [
    "## 리스트 항목과 인덱스를 동시에 얻는 방법\n",
    "### enumerate()\n",
    "함수를 실행하고 나면 **튜플 형태**로 (인덱스, 시퀀스 객체 아이템)이 반환된다.\n",
    "\n",
    "* enumerate 문법:\n",
    "\n",
    "    enumerate(['시퀀스 타입 객체'], ['시작 index' = 0])"
   ]
  },
  {
   "cell_type": "code",
   "execution_count": 39,
   "metadata": {
    "collapsed": false
   },
   "outputs": [
    {
     "name": "stdout",
     "output_type": "stream",
     "text": [
      "(0, 100)\n",
      "(1, 15.5)\n",
      "(2, 'apple')\n",
      "101 100\n",
      "102 15.5\n",
      "103 apple\n"
     ]
    }
   ],
   "source": [
    "L = [100, 15.5, \"apple\"]\n",
    "for i in enumerate(L):\n",
    "    print(i)\n",
    "    \n",
    "for i, v in enumerate(L, 101):\n",
    "    print(i, v)"
   ]
  },
  {
   "cell_type": "markdown",
   "metadata": {},
   "source": [
    "## List Comprehension (리스트 내장)\n",
    "기존의 리스트 객체를 이용해 조합, 필터링 등 추가적인 연산을 통해서 새로운 리스트 객체를 생성하는 경우 효율적이다.\n",
    "\n",
    "List Comprehension 문법:\n",
    "\n",
    "    <표현식> for <아이템> in <시퀀스 타입객체> (if 조건식)\n",
    "    \n",
    "* 시퀀스 타입객체 : 시퀀스형 객체(리스트, 튜플, 셋)나 이터레이션 가능한 객체\n",
    "* 아이템 : 리스트 객체의 개별 아이템\n",
    "* 표현식 : 개별 <아이템>을 사용해서 mapping 형태로 새로운 객체를 생성하는데 사용"
   ]
  },
  {
   "cell_type": "code",
   "execution_count": 16,
   "metadata": {
    "collapsed": false
   },
   "outputs": [
    {
     "data": {
      "text/plain": [
       "[5, 6, 6]"
      ]
     },
     "execution_count": 16,
     "metadata": {},
     "output_type": "execute_result"
    }
   ],
   "source": [
    "l = [1, 2, 3, 4, 5]  # 리스트 객체\n",
    "[i ** 2 for i in l]\n",
    "\n",
    "t = (\"apple\", \"banana\", \"orange\")\n",
    "[len(i) for i in t]"
   ]
  },
  {
   "cell_type": "code",
   "execution_count": 20,
   "metadata": {
    "collapsed": false
   },
   "outputs": [
    {
     "data": {
      "text/plain": [
       "['banana', 'orange']"
      ]
     },
     "execution_count": 20,
     "metadata": {},
     "output_type": "execute_result"
    }
   ],
   "source": [
    "l =[\"apple\", \"banana\", \"orange\", \"kiwi\"]\n",
    "[i for i in l if len(i) > 5]"
   ]
  },
  {
   "cell_type": "markdown",
   "metadata": {},
   "source": [
    "## 반복문 작성시 도움이 되는 함수\n",
    "### filter 함수\n",
    "입력받는 시퀀스형 객체를 순회하며, 함수의 결과가 True인 경우만을 묶어서 해당 이터레이터 객체를 반환\n",
    "\n",
    "filter 함수 문법:\n",
    "    \n",
    "    filter(<function> | None, <이터레이션이 가능한 자료형>)\n",
    "  \n",
    "* None을 입력한 경우 : 시퀀스 객체의 모든 아이템을 선택하고 싶을때."
   ]
  },
  {
   "cell_type": "code",
   "execution_count": 22,
   "metadata": {
    "collapsed": false
   },
   "outputs": [
    {
     "name": "stdout",
     "output_type": "stream",
     "text": [
      "Item: 10\n",
      "Item: 20\n",
      "Item: 30\n"
     ]
    }
   ],
   "source": [
    "L = [10, 20, 30]\n",
    "it = filter(None, L)  # 아무런 필터링을 수행하지 않을때.\n",
    "for i in it:\n",
    "    print(\"Item: {0}\".format(i))"
   ]
  },
  {
   "cell_type": "code",
   "execution_count": 42,
   "metadata": {
    "collapsed": false
   },
   "outputs": [
    {
     "name": "stdout",
     "output_type": "stream",
     "text": [
      "Iterator: 25\n",
      "Iterator: 30\n",
      "[25, 30]\n"
     ]
    }
   ],
   "source": [
    "def GetBiggerThan20(i):  # 필터링 함수\n",
    "    return i > 20\n",
    "\n",
    "L = [10, 25, 30]\n",
    "it = filter(GetBiggerThan20, L)\n",
    "print(\"Iterator: {0}\".format(next(it)))\n",
    "print(\"Iterator: {0}\".format(next(it)))\n",
    "\n",
    "for i in it:\n",
    "    print(\"Item: {0}\".format(i))\n",
    "    \n",
    "t = tuple(filter(GetBiggerThan20, L))\n",
    "l = list(filter(GetBiggerThan20, L))\n",
    "print(l)"
   ]
  },
  {
   "cell_type": "markdown",
   "metadata": {},
   "source": [
    "### zip 함수\n",
    "3개 이상의 시퀀스형이나 이터레이터형 객체를 **튜플 형태**로 서로 쌍을 묵을 수 있다."
   ]
  },
  {
   "cell_type": "code",
   "execution_count": 46,
   "metadata": {
    "collapsed": false
   },
   "outputs": [
    {
     "name": "stdout",
     "output_type": "stream",
     "text": [
      "Item:(10, 'A')\n",
      "Item:(20, 'B')\n",
      "Item:(30, 'C')\n"
     ]
    },
    {
     "data": {
      "text/plain": [
       "[(10, 'A'), (20, 'B'), (30, 'C')]"
      ]
     },
     "execution_count": 46,
     "metadata": {},
     "output_type": "execute_result"
    }
   ],
   "source": [
    "X = [10, 20, 30]\n",
    "Y = ['A', 'B', 'C']\n",
    "for i in zip(X, Y):\n",
    "    print(\"Item:{0}\".format(i))\n",
    "    \n",
    "l = list(zip(X,Y))\n",
    "l"
   ]
  },
  {
   "cell_type": "markdown",
   "metadata": {},
   "source": [
    "zip() 함수로 결합된 결과를 분리하기 위해, zip()호출시, **결합된 객체나 이터레이터 인자 앞에 \\'*\\'를 붙여 분리가능하다.**"
   ]
  },
  {
   "cell_type": "code",
   "execution_count": 48,
   "metadata": {
    "collapsed": false
   },
   "outputs": [
    {
     "data": {
      "text/plain": [
       "(10, 20, 30)"
      ]
     },
     "execution_count": 48,
     "metadata": {},
     "output_type": "execute_result"
    }
   ],
   "source": [
    "X2, Y2 = zip(*l)\n",
    "X2"
   ]
  },
  {
   "cell_type": "code",
   "execution_count": 50,
   "metadata": {
    "collapsed": false
   },
   "outputs": [
    {
     "data": {
      "text/plain": [
       "('A', 'B', 'C')"
      ]
     },
     "execution_count": 50,
     "metadata": {},
     "output_type": "execute_result"
    }
   ],
   "source": [
    "Y2"
   ]
  },
  {
   "cell_type": "markdown",
   "metadata": {},
   "source": [
    "결합을 하는 인자의 개수가 동일하지 않은 경우네는, **가장 짧은 쪽을 기준으로 결합되며 나머지 시퀀스 객체는 포함되지 않는다.**"
   ]
  },
  {
   "cell_type": "code",
   "execution_count": 51,
   "metadata": {
    "collapsed": false
   },
   "outputs": [
    {
     "data": {
      "text/plain": [
       "[(10, 'A'), (20, 'B'), (30, 'C')]"
      ]
     },
     "execution_count": 51,
     "metadata": {},
     "output_type": "execute_result"
    }
   ],
   "source": [
    "X = [10, 20, 30]\n",
    "Y = \"ABCDE\"\n",
    "l = list(zip(X, Y))\n",
    "l"
   ]
  },
  {
   "cell_type": "markdown",
   "metadata": {},
   "source": [
    "### map()\n",
    "시퀀스형 객체를 순회하면서 모든 값을 갱신할 때 사용하면 쉽게 처리 가능하다.\n",
    "* 객체를 순회하며 각 아이템을 첫 인자인 함수에 전달하고, 함수의 수행 결과를 이터레이터 객체로 생성해서 반환한다.\n",
    "\n",
    "map 문법 :\n",
    "\n",
    "    map(<함수이름>, 이터레이션이 가능한 객체, ...)"
   ]
  },
  {
   "cell_type": "code",
   "execution_count": 54,
   "metadata": {
    "collapsed": false
   },
   "outputs": [
    {
     "name": "stdout",
     "output_type": "stream",
     "text": [
      "Item: 11\n",
      "Item: 12\n",
      "Item: 13\n"
     ]
    },
    {
     "data": {
      "text/plain": [
       "[11, 12, 13]"
      ]
     },
     "execution_count": 54,
     "metadata": {},
     "output_type": "execute_result"
    }
   ],
   "source": [
    "L = [1, 2, 3]\n",
    "def Add10(i):\n",
    "    return i + 10\n",
    "\n",
    "for i in map(Add10, L):\n",
    "    print(\"Item: {0}\".format(i))\n",
    "    \n",
    "\n",
    "# 람다 함수 사용하는 경우\n",
    "l = list(map((lambda i: i + 10), L))\n",
    "l"
   ]
  }
 ],
 "metadata": {
  "kernelspec": {
   "display_name": "Python 3",
   "language": "python",
   "name": "python3"
  },
  "language_info": {
   "codemirror_mode": {
    "name": "ipython",
    "version": 3
   },
   "file_extension": ".py",
   "mimetype": "text/x-python",
   "name": "python",
   "nbconvert_exporter": "python",
   "pygments_lexer": "ipython3",
   "version": "3.4.3"
  }
 },
 "nbformat": 4,
 "nbformat_minor": 0
}
