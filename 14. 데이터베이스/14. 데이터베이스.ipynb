{
 "cells": [
  {
   "cell_type": "markdown",
   "metadata": {},
   "source": [
    "# 14. 데이터베이스\n",
    "SQLite DB를 사용해서 강의 진행\n",
    "\n",
    "## pysqlite 모듈\n",
    "sqlite db를 연결하기 위한 모듈\n",
    "\n",
    "### 데이터베이스 연결\n",
    "물리적인 DB 파일이 없으면 생성되며, 파일이 이미 존재하면 그 DB 파일을 사용한다."
   ]
  },
  {
   "cell_type": "code",
   "execution_count": 2,
   "metadata": {
    "collapsed": true
   },
   "outputs": [],
   "source": [
    "import sqlite3\n",
    "con = sqlite3.connect(\"test.db\")  # 물리적인 파일 생성\n",
    "con = sqlite3.connect(\":memory:\") # 메모리에 생성 "
   ]
  },
  {
   "cell_type": "markdown",
   "metadata": {},
   "source": [
    "### SQL 문 실행"
   ]
  },
  {
   "cell_type": "code",
   "execution_count": 3,
   "metadata": {
    "collapsed": false
   },
   "outputs": [
    {
     "data": {
      "text/plain": [
       "<sqlite3.Cursor at 0x103ea4e30>"
      ]
     },
     "execution_count": 3,
     "metadata": {},
     "output_type": "execute_result"
    }
   ],
   "source": [
    "import sqlite3\n",
    "con = sqlite3.connect(\":memory:\")\n",
    "cur = con.cursor()\n",
    "cur.execute(\"create table PhoneBook(Name text, PhoneNum text);\")"
   ]
  },
  {
   "cell_type": "code",
   "execution_count": 5,
   "metadata": {
    "collapsed": false
   },
   "outputs": [
    {
     "data": {
      "text/plain": [
       "<sqlite3.Cursor at 0x103ea4e30>"
      ]
     },
     "execution_count": 5,
     "metadata": {},
     "output_type": "execute_result"
    }
   ],
   "source": [
    "cur.execute(\"insert into PhoneBook values ('Derick', '010-1234-5678');\")"
   ]
  },
  {
   "cell_type": "markdown",
   "metadata": {},
   "source": [
    "### 레코드 조회\n",
    "execute() 매소를 사용해서 select절 수행가능."
   ]
  },
  {
   "cell_type": "code",
   "execution_count": 7,
   "metadata": {
    "collapsed": false
   },
   "outputs": [
    {
     "name": "stdout",
     "output_type": "stream",
     "text": [
      "('Derick', '010-1234-5678')\n",
      "('Derick', '010-1234-5678')\n"
     ]
    }
   ],
   "source": [
    "cur.execute(\"select * from PhoneBook;\")\n",
    "for row in cur:\n",
    "    print(row)"
   ]
  },
  {
   "cell_type": "code",
   "execution_count": 8,
   "metadata": {
    "collapsed": false
   },
   "outputs": [
    {
     "data": {
      "text/plain": [
       "<sqlite3.Cursor at 0x103ea4e30>"
      ]
     },
     "execution_count": 8,
     "metadata": {},
     "output_type": "execute_result"
    }
   ],
   "source": [
    "name = \"sungjin\"\n",
    "phoneNumver = \"010-123-4454\"\n",
    "cur.execute(\"insert into PhoneBook values (?, ?);\", (name, phoneNumver))\n",
    "\n",
    "cur.execute(\"insert into PhoneBook values (:inputName, :inputPhoneNumber);\", {\"inputPhoneNumber\": phoneNumver, \"inputName\": name })"
   ]
  },
  {
   "cell_type": "code",
   "execution_count": 9,
   "metadata": {
    "collapsed": false
   },
   "outputs": [
    {
     "name": "stdout",
     "output_type": "stream",
     "text": [
      "('Derick', '010-1234-5678')\n",
      "('Derick', '010-1234-5678')\n",
      "('sungjin', '010-123-4454')\n",
      "('sungjin', '010-123-4454')\n"
     ]
    }
   ],
   "source": [
    "cur.execute(\"select * from PhoneBook;\")\n",
    "for row in cur:\n",
    "    print(row)"
   ]
  },
  {
   "cell_type": "code",
   "execution_count": 10,
   "metadata": {
    "collapsed": false
   },
   "outputs": [
    {
     "data": {
      "text/plain": [
       "<sqlite3.Cursor at 0x103ea4e30>"
      ]
     },
     "execution_count": 10,
     "metadata": {},
     "output_type": "execute_result"
    }
   ],
   "source": [
    "datalist = (('tom', '010-4530-1123'), ('john', '010-8920-1234'))\n",
    "cur.executemany(\"insert into PhoneBook values (?, ?);\", datalist)"
   ]
  },
  {
   "cell_type": "code",
   "execution_count": 11,
   "metadata": {
    "collapsed": false
   },
   "outputs": [
    {
     "name": "stdout",
     "output_type": "stream",
     "text": [
      "('Derick', '010-1234-5678')\n",
      "('Derick', '010-1234-5678')\n",
      "('sungjin', '010-123-4454')\n",
      "('sungjin', '010-123-4454')\n",
      "('tom', '010-4530-1123')\n",
      "('john', '010-8920-1234')\n"
     ]
    }
   ],
   "source": [
    "cur.execute(\"select * from PhoneBook;\")\n",
    "for row in cur:\n",
    "    print(row)"
   ]
  },
  {
   "cell_type": "code",
   "execution_count": 12,
   "metadata": {
    "collapsed": false
   },
   "outputs": [
    {
     "data": {
      "text/plain": [
       "<sqlite3.Cursor at 0x103ea4e30>"
      ]
     },
     "execution_count": 12,
     "metadata": {},
     "output_type": "execute_result"
    }
   ],
   "source": [
    "def dataGenerator():\n",
    "    datalist = {('madmax', '010-2304-1233'), ('marry', '053-2320-1111')}\n",
    "    for item in datalist:\n",
    "        yield item\n",
    "        \n",
    "cur.executemany(\"insert into PhoneBook values (?, ?);\", dataGenerator())"
   ]
  },
  {
   "cell_type": "code",
   "execution_count": 20,
   "metadata": {
    "collapsed": false
   },
   "outputs": [
    {
     "data": {
      "text/plain": [
       "[('Derick', '010-1234-5678'),\n",
       " ('Derick', '010-1234-5678'),\n",
       " ('sungjin', '010-123-4454'),\n",
       " ('sungjin', '010-123-4454'),\n",
       " ('tom', '010-4530-1123'),\n",
       " ('john', '010-8920-1234'),\n",
       " ('madmax', '010-2304-1233'),\n",
       " ('marry', '053-2320-1111')]"
      ]
     },
     "execution_count": 20,
     "metadata": {},
     "output_type": "execute_result"
    }
   ],
   "source": [
    "cur.execute(\"select * from PhoneBook;\")\n",
    "\n",
    "cur.fetchone()\n",
    "cur.fetchone()\n",
    "cur.fetchone()\n",
    "\n",
    "cur.fetchmany(2) # list에다 tuple을 담아서 리턴\n",
    "\n",
    "cur.execute(\"select * from PhoneBook;\")\n",
    "cur.fetchall()"
   ]
  },
  {
   "cell_type": "markdown",
   "metadata": {},
   "source": [
    "##  트랜잭션 처리\n",
    "여러 개의 SQL 구문을 하나의 실행단위로 묶어서 처리할 수 있다. 아래의 구문을 실행하고 커밋을 하지 않으면 데이터가 저장되지 않는다.\n",
    "작업한 내용을 commit을 하면 반영된다.\n",
    "\n",
    "### 자료형\n",
    "SQLite3은 NULL, INTEGER, REAL, TEXT, BLOB만을 기본 자료형으로 제공한다.\n",
    "\n",
    "| SQLite3 type  | Python type   |\n",
    "| ------------- | ------------- |\n",
    "|Null|None|\n",
    "|Integer|int|\n",
    "|REAL|float|\n",
    "|TEXT|str, bytes|\n",
    "|BLOB|buffer|"
   ]
  },
  {
   "cell_type": "code",
   "execution_count": 2,
   "metadata": {
    "collapsed": false
   },
   "outputs": [
    {
     "ename": "OperationalError",
     "evalue": "table PhoneBook already exists",
     "output_type": "error",
     "traceback": [
      "\u001b[0;31m---------------------------------------------------------------------------\u001b[0m",
      "\u001b[0;31mOperationalError\u001b[0m                          Traceback (most recent call last)",
      "\u001b[0;32m<ipython-input-2-bbe669342e72>\u001b[0m in \u001b[0;36m<module>\u001b[0;34m()\u001b[0m\n\u001b[1;32m      4\u001b[0m \u001b[0mcon\u001b[0m \u001b[0;34m=\u001b[0m \u001b[0msqlite3\u001b[0m\u001b[0;34m.\u001b[0m\u001b[0mconnect\u001b[0m\u001b[0;34m(\u001b[0m\u001b[0mabspath\u001b[0m\u001b[0;34m(\u001b[0m\u001b[0;34m\"test.db\"\u001b[0m\u001b[0;34m)\u001b[0m\u001b[0;34m)\u001b[0m\u001b[0;34m\u001b[0m\u001b[0m\n\u001b[1;32m      5\u001b[0m \u001b[0mcur\u001b[0m \u001b[0;34m=\u001b[0m \u001b[0mcon\u001b[0m\u001b[0;34m.\u001b[0m\u001b[0mcursor\u001b[0m\u001b[0;34m(\u001b[0m\u001b[0;34m)\u001b[0m\u001b[0;34m\u001b[0m\u001b[0m\n\u001b[0;32m----> 6\u001b[0;31m \u001b[0mcur\u001b[0m\u001b[0;34m.\u001b[0m\u001b[0mexecute\u001b[0m\u001b[0;34m(\u001b[0m\u001b[0;34m\"create table PhoneBook(Name text, PhoneNum text);\"\u001b[0m\u001b[0;34m)\u001b[0m\u001b[0;34m\u001b[0m\u001b[0m\n\u001b[0m\u001b[1;32m      7\u001b[0m \u001b[0mcur\u001b[0m\u001b[0;34m.\u001b[0m\u001b[0mexecute\u001b[0m\u001b[0;34m(\u001b[0m\u001b[0;34m\"insert into PhoneBook values ('Derick', '010-1234-5678');\"\u001b[0m\u001b[0;34m)\u001b[0m\u001b[0;34m\u001b[0m\u001b[0m\n\u001b[1;32m      8\u001b[0m \u001b[0mcur\u001b[0m\u001b[0;34m.\u001b[0m\u001b[0mexecute\u001b[0m\u001b[0;34m(\u001b[0m\u001b[0;34m\"select * from PhoneBook;\"\u001b[0m\u001b[0;34m)\u001b[0m\u001b[0;34m\u001b[0m\u001b[0m\n",
      "\u001b[0;31mOperationalError\u001b[0m: table PhoneBook already exists"
     ]
    }
   ],
   "source": [
    "from os.path import *\n",
    "import sqlite3\n",
    "\n",
    "con = sqlite3.connect(abspath(\"test.db\"))\n",
    "cur = con.cursor()\n",
    "cur.execute(\"create table PhoneBook(Name text, PhoneNum text);\")\n",
    "cur.execute(\"insert into PhoneBook values ('Derick', '010-1234-5678');\")\n",
    "cur.execute(\"select * from PhoneBook;\")\n",
    "print(cur.fetchall())"
   ]
  },
  {
   "cell_type": "code",
   "execution_count": 1,
   "metadata": {
    "collapsed": false
   },
   "outputs": [
    {
     "name": "stdout",
     "output_type": "stream",
     "text": [
      "[]\n"
     ]
    }
   ],
   "source": [
    "# 위에서 commit을 하지 않았기 때문에, 종료를 하고 재시작해서 select를 날리면 데이터가 없는 것을 확인가능하다.\n",
    "from os.path import *\n",
    "import sqlite3\n",
    "\n",
    "con = sqlite3.connect(abspath(\"test.db\"))\n",
    "cur = con.cursor()\n",
    "cur.execute(\"select * from PhoneBook;\")\n",
    "print(cur.fetchall())"
   ]
  },
  {
   "cell_type": "code",
   "execution_count": 1,
   "metadata": {
    "collapsed": false
   },
   "outputs": [
    {
     "data": {
      "text/plain": [
       "'/Users/bookboogie/p/git/start-python/14. 데이터베이스/test2.db'"
      ]
     },
     "execution_count": 1,
     "metadata": {},
     "output_type": "execute_result"
    }
   ],
   "source": [
    "from os.path import *\n",
    "abspath(\"test2.db\")"
   ]
  },
  {
   "cell_type": "code",
   "execution_count": 2,
   "metadata": {
    "collapsed": false
   },
   "outputs": [
    {
     "name": "stdout",
     "output_type": "stream",
     "text": [
      "[('Derick', '010-1234-5678')]\n"
     ]
    }
   ],
   "source": [
    "from os.path import *\n",
    "import sqlite3\n",
    "\n",
    "con = sqlite3.connect(abspath(\"test2.db\"))\n",
    "cur = con.cursor()\n",
    "cur.execute(\"create table PhoneBook(Name text, PhoneNum text);\")\n",
    "cur.execute(\"insert into PhoneBook values ('Derick', '010-1234-5678');\")\n",
    "cur.execute(\"select * from PhoneBook;\")\n",
    "print(cur.fetchall())\n",
    "\n",
    "con.commit()"
   ]
  },
  {
   "cell_type": "code",
   "execution_count": 3,
   "metadata": {
    "collapsed": false
   },
   "outputs": [
    {
     "name": "stdout",
     "output_type": "stream",
     "text": [
      "[('Derick', '010-1234-5678')]\n"
     ]
    }
   ],
   "source": [
    "# 위에서 commit을 하지 않았기 때문에, 종료를 하고 재시작해서 select를 날리면 데이터가 없는 것을 확인가능하다.\n",
    "from os.path import *\n",
    "import sqlite3\n",
    "\n",
    "con = sqlite3.connect(abspath(\"test2.db\"))\n",
    "cur = con.cursor()\n",
    "cur.execute(\"select * from PhoneBook;\")\n",
    "print(cur.fetchall())"
   ]
  },
  {
   "cell_type": "markdown",
   "metadata": {},
   "source": [
    "### 데이터베이스 백업\n",
    "현재 상태를 SQL 구문으로 추출해야 할때가 있다.\n",
    "이런 경우 Connection.iteratordump()를 이용해서 추출 가능하다. 호출 결과는 SQL 구문을 iterator 형태로 반환"
   ]
  },
  {
   "cell_type": "code",
   "execution_count": 4,
   "metadata": {
    "collapsed": false
   },
   "outputs": [
    {
     "name": "stdout",
     "output_type": "stream",
     "text": [
      "BEGIN TRANSACTION;\n",
      "CREATE TABLE PhoneBook(Name text, PhoneNum text);\n",
      "INSERT INTO \"PhoneBook\" VALUES('Derick','010-1234-5678');\n",
      "INSERT INTO \"PhoneBook\" VALUES('John','010-156-9877');\n",
      "INSERT INTO \"PhoneBook\" VALUES('Marry','010-8977-1111');\n",
      "COMMIT;\n"
     ]
    }
   ],
   "source": [
    "import sqlite3\n",
    "\n",
    "con = sqlite3.connect(\":memory:\")\n",
    "cur = con.cursor()\n",
    "cur.execute(\"create table PhoneBook(Name text, PhoneNum text);\")\n",
    "cur.execute(\"insert into PhoneBook values ('Derick', '010-1234-5678');\")\n",
    "cur.execute(\"insert into PhoneBook values ('John', '010-156-9877');\")\n",
    "cur.execute(\"insert into PhoneBook values ('Marry', '010-8977-1111');\")\n",
    "\n",
    "for item in con.iterdump():\n",
    "    print(item)"
   ]
  },
  {
   "cell_type": "code",
   "execution_count": 6,
   "metadata": {
    "collapsed": false
   },
   "outputs": [],
   "source": [
    "from os.path import *\n",
    "import sqlite3\n",
    "\n",
    "con = sqlite3.connect(\":memory:\")\n",
    "cur = con.cursor()\n",
    "cur.execute(\"create table PhoneBook(Name text, PhoneNum text);\")\n",
    "cur.execute(\"insert into PhoneBook values ('Derick', '010-1234-5678');\")\n",
    "cur.execute(\"insert into PhoneBook values ('John', '010-156-9877');\")\n",
    "cur.execute(\"insert into PhoneBook values ('Marry', '010-8977-1111');\")\n",
    "\n",
    "#파일로 저장\n",
    "with open(abspath(\"dump.sql\"), \"w\") as f:\n",
    "    for sql in con.iterdump():\n",
    "        f.write(\"{0}\\n\".format(sql))"
   ]
  },
  {
   "cell_type": "code",
   "execution_count": 7,
   "metadata": {
    "collapsed": false
   },
   "outputs": [
    {
     "data": {
      "text/plain": [
       "<sqlite3.Cursor at 0x103f1f3b0>"
      ]
     },
     "execution_count": 7,
     "metadata": {},
     "output_type": "execute_result"
    }
   ],
   "source": [
    "import sqlite3\n",
    "con = sqlite3.connect(\":memory:\")\n",
    "with open(abspath(\"dump.sql\")) as f:\n",
    "    SQLScript = f.read()\n",
    "    \n",
    "cur = con.cursor()\n",
    "cur.executescript(SQLScript) #dump로 생성한 script를 실행해서 복구 가능하다."
   ]
  },
  {
   "cell_type": "code",
   "execution_count": 8,
   "metadata": {
    "collapsed": false
   },
   "outputs": [
    {
     "data": {
      "text/plain": [
       "[('Derick', '010-1234-5678'),\n",
       " ('John', '010-156-9877'),\n",
       " ('Marry', '010-8977-1111')]"
      ]
     },
     "execution_count": 8,
     "metadata": {},
     "output_type": "execute_result"
    }
   ],
   "source": [
    "cur.execute(\"select * from PhoneBook;\")\n",
    "cur.fetchall()"
   ]
  },
  {
   "cell_type": "code",
   "execution_count": 11,
   "metadata": {
    "collapsed": false
   },
   "outputs": [
    {
     "data": {
      "text/plain": [
       "<sqlite3.Cursor at 0x103f1f3b0>"
      ]
     },
     "execution_count": 11,
     "metadata": {},
     "output_type": "execute_result"
    }
   ],
   "source": [
    "cur.execute(\"insert into PhoneBook values ('Admin', '02-111-9999');\")"
   ]
  },
  {
   "cell_type": "code",
   "execution_count": 12,
   "metadata": {
    "collapsed": false
   },
   "outputs": [
    {
     "name": "stdout",
     "output_type": "stream",
     "text": [
      "BEGIN TRANSACTION;\n",
      "CREATE TABLE PhoneBook(Name text, PhoneNum text);\n",
      "INSERT INTO \"PhoneBook\" VALUES('Derick','010-1234-5678');\n",
      "INSERT INTO \"PhoneBook\" VALUES('John','010-156-9877');\n",
      "INSERT INTO \"PhoneBook\" VALUES('Marry','010-8977-1111');\n",
      "INSERT INTO \"PhoneBook\" VALUES('Admin','02-111-9999');\n",
      "COMMIT;\n"
     ]
    }
   ],
   "source": [
    "for d in con.iterdump():\n",
    "    print(d)"
   ]
  }
 ],
 "metadata": {
  "kernelspec": {
   "display_name": "Python 3",
   "language": "python",
   "name": "python3"
  },
  "language_info": {
   "codemirror_mode": {
    "name": "ipython",
    "version": 3
   },
   "file_extension": ".py",
   "mimetype": "text/x-python",
   "name": "python",
   "nbconvert_exporter": "python",
   "pygments_lexer": "ipython3",
   "version": "3.4.3"
  }
 },
 "nbformat": 4,
 "nbformat_minor": 0
}
